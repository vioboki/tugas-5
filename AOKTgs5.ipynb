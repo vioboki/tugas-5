{
 "cells": [
  {
   "cell_type": "code",
   "execution_count": 2,
   "metadata": {},
   "outputs": [
    {
     "data": {
      "text/html": [
       "<script>\n",
       "code_show=true; \n",
       "function code_toggle() {\n",
       " if (code_show){\n",
       " $('div.input').hide();\n",
       " } else {\n",
       " $('div.input').show();\n",
       " }\n",
       " code_show = !code_show\n",
       "} \n",
       "$( document ).ready(code_toggle);\n",
       "</script>\n",
       "<form action=\"javascript:code_toggle()\"><input type=\"submit\" value=\"Click here to toggle on/off the raw code.\"></form>"
      ],
      "text/plain": [
       "<IPython.core.display.HTML object>"
      ]
     },
     "execution_count": 2,
     "metadata": {},
     "output_type": "execute_result"
    }
   ],
   "source": [
    "from IPython.display import HTML\n",
    "\n",
    "HTML('''<script>\n",
    "code_show=true; \n",
    "function code_toggle() {\n",
    " if (code_show){\n",
    " $('div.input').hide();\n",
    " } else {\n",
    " $('div.input').show();\n",
    " }\n",
    " code_show = !code_show\n",
    "} \n",
    "$( document ).ready(code_toggle);\n",
    "</script>\n",
    "<form action=\"javascript:code_toggle()\"><input type=\"submit\" value=\"Click here to toggle on/off the raw code.\"></form>''')"
   ]
  },
  {
   "cell_type": "code",
   "execution_count": 7,
   "metadata": {},
   "outputs": [],
   "source": [
    "#Memasukkan library yang akan digunakan\n",
    "import pandas as pd\n",
    "import seaborn as sns\n",
    "import matplotlib.pyplot as plt\n",
    "import numpy as np\n",
    "data = pd.read_csv('DataRE.csv')"
   ]
  },
  {
   "cell_type": "markdown",
   "metadata": {},
   "source": [
    "# Data Survey"
   ]
  },
  {
   "cell_type": "markdown",
   "metadata": {},
   "source": [
    "# Menampilkan seluruh data\n"
   ]
  },
  {
   "cell_type": "code",
   "execution_count": 7,
   "metadata": {},
   "outputs": [
    {
     "data": {
      "text/html": [
       "<div>\n",
       "<style scoped>\n",
       "    .dataframe tbody tr th:only-of-type {\n",
       "        vertical-align: middle;\n",
       "    }\n",
       "\n",
       "    .dataframe tbody tr th {\n",
       "        vertical-align: top;\n",
       "    }\n",
       "\n",
       "    .dataframe thead th {\n",
       "        text-align: right;\n",
       "    }\n",
       "</style>\n",
       "<table border=\"1\" class=\"dataframe\">\n",
       "  <thead>\n",
       "    <tr style=\"text-align: right;\">\n",
       "      <th></th>\n",
       "      <th>Q1</th>\n",
       "      <th>Q2</th>\n",
       "      <th>Q3</th>\n",
       "      <th>Q4</th>\n",
       "      <th>Q5</th>\n",
       "      <th>Q6</th>\n",
       "      <th>Q7</th>\n",
       "      <th>Q8</th>\n",
       "    </tr>\n",
       "  </thead>\n",
       "  <tbody>\n",
       "    <tr>\n",
       "      <th>0</th>\n",
       "      <td>5</td>\n",
       "      <td>4</td>\n",
       "      <td>2</td>\n",
       "      <td>5</td>\n",
       "      <td>2</td>\n",
       "      <td>5</td>\n",
       "      <td>1</td>\n",
       "      <td>5</td>\n",
       "    </tr>\n",
       "    <tr>\n",
       "      <th>1</th>\n",
       "      <td>5</td>\n",
       "      <td>4</td>\n",
       "      <td>2</td>\n",
       "      <td>4</td>\n",
       "      <td>3</td>\n",
       "      <td>2</td>\n",
       "      <td>2</td>\n",
       "      <td>5</td>\n",
       "    </tr>\n",
       "    <tr>\n",
       "      <th>2</th>\n",
       "      <td>5</td>\n",
       "      <td>4</td>\n",
       "      <td>4</td>\n",
       "      <td>5</td>\n",
       "      <td>3</td>\n",
       "      <td>4</td>\n",
       "      <td>3</td>\n",
       "      <td>4</td>\n",
       "    </tr>\n",
       "    <tr>\n",
       "      <th>3</th>\n",
       "      <td>5</td>\n",
       "      <td>4</td>\n",
       "      <td>5</td>\n",
       "      <td>5</td>\n",
       "      <td>2</td>\n",
       "      <td>4</td>\n",
       "      <td>3</td>\n",
       "      <td>4</td>\n",
       "    </tr>\n",
       "    <tr>\n",
       "      <th>4</th>\n",
       "      <td>5</td>\n",
       "      <td>4</td>\n",
       "      <td>4</td>\n",
       "      <td>4</td>\n",
       "      <td>2</td>\n",
       "      <td>4</td>\n",
       "      <td>3</td>\n",
       "      <td>5</td>\n",
       "    </tr>\n",
       "    <tr>\n",
       "      <th>...</th>\n",
       "      <td>...</td>\n",
       "      <td>...</td>\n",
       "      <td>...</td>\n",
       "      <td>...</td>\n",
       "      <td>...</td>\n",
       "      <td>...</td>\n",
       "      <td>...</td>\n",
       "      <td>...</td>\n",
       "    </tr>\n",
       "    <tr>\n",
       "      <th>495</th>\n",
       "      <td>4</td>\n",
       "      <td>3</td>\n",
       "      <td>3</td>\n",
       "      <td>5</td>\n",
       "      <td>5</td>\n",
       "      <td>4</td>\n",
       "      <td>2</td>\n",
       "      <td>2</td>\n",
       "    </tr>\n",
       "    <tr>\n",
       "      <th>496</th>\n",
       "      <td>5</td>\n",
       "      <td>5</td>\n",
       "      <td>5</td>\n",
       "      <td>5</td>\n",
       "      <td>5</td>\n",
       "      <td>5</td>\n",
       "      <td>1</td>\n",
       "      <td>5</td>\n",
       "    </tr>\n",
       "    <tr>\n",
       "      <th>497</th>\n",
       "      <td>5</td>\n",
       "      <td>5</td>\n",
       "      <td>5</td>\n",
       "      <td>5</td>\n",
       "      <td>2</td>\n",
       "      <td>5</td>\n",
       "      <td>2</td>\n",
       "      <td>5</td>\n",
       "    </tr>\n",
       "    <tr>\n",
       "      <th>498</th>\n",
       "      <td>4</td>\n",
       "      <td>2</td>\n",
       "      <td>2</td>\n",
       "      <td>4</td>\n",
       "      <td>2</td>\n",
       "      <td>4</td>\n",
       "      <td>2</td>\n",
       "      <td>4</td>\n",
       "    </tr>\n",
       "    <tr>\n",
       "      <th>499</th>\n",
       "      <td>4</td>\n",
       "      <td>2</td>\n",
       "      <td>2</td>\n",
       "      <td>3</td>\n",
       "      <td>3</td>\n",
       "      <td>3</td>\n",
       "      <td>3</td>\n",
       "      <td>3</td>\n",
       "    </tr>\n",
       "  </tbody>\n",
       "</table>\n",
       "<p>500 rows × 8 columns</p>\n",
       "</div>"
      ],
      "text/plain": [
       "     Q1  Q2  Q3  Q4  Q5  Q6  Q7  Q8\n",
       "0     5   4   2   5   2   5   1   5\n",
       "1     5   4   2   4   3   2   2   5\n",
       "2     5   4   4   5   3   4   3   4\n",
       "3     5   4   5   5   2   4   3   4\n",
       "4     5   4   4   4   2   4   3   5\n",
       "..   ..  ..  ..  ..  ..  ..  ..  ..\n",
       "495   4   3   3   5   5   4   2   2\n",
       "496   5   5   5   5   5   5   1   5\n",
       "497   5   5   5   5   2   5   2   5\n",
       "498   4   2   2   4   2   4   2   4\n",
       "499   4   2   2   3   3   3   3   3\n",
       "\n",
       "[500 rows x 8 columns]"
      ]
     },
     "execution_count": 7,
     "metadata": {},
     "output_type": "execute_result"
    }
   ],
   "source": [
    "data"
   ]
  },
  {
   "cell_type": "markdown",
   "metadata": {},
   "source": [
    "# Deskripsi data"
   ]
  },
  {
   "cell_type": "markdown",
   "metadata": {},
   "source": [
    "Memunculkan jumlah data, rata rata dan perhitungan lain "
   ]
  },
  {
   "cell_type": "code",
   "execution_count": 5,
   "metadata": {},
   "outputs": [
    {
     "data": {
      "text/html": [
       "<div>\n",
       "<style scoped>\n",
       "    .dataframe tbody tr th:only-of-type {\n",
       "        vertical-align: middle;\n",
       "    }\n",
       "\n",
       "    .dataframe tbody tr th {\n",
       "        vertical-align: top;\n",
       "    }\n",
       "\n",
       "    .dataframe thead th {\n",
       "        text-align: right;\n",
       "    }\n",
       "</style>\n",
       "<table border=\"1\" class=\"dataframe\">\n",
       "  <thead>\n",
       "    <tr style=\"text-align: right;\">\n",
       "      <th></th>\n",
       "      <th>Q1</th>\n",
       "      <th>Q2</th>\n",
       "      <th>Q3</th>\n",
       "      <th>Q4</th>\n",
       "      <th>Q5</th>\n",
       "      <th>Q6</th>\n",
       "      <th>Q7</th>\n",
       "      <th>Q8</th>\n",
       "    </tr>\n",
       "  </thead>\n",
       "  <tbody>\n",
       "    <tr>\n",
       "      <th>count</th>\n",
       "      <td>500.000000</td>\n",
       "      <td>500.000000</td>\n",
       "      <td>500.000000</td>\n",
       "      <td>500.000000</td>\n",
       "      <td>500.00000</td>\n",
       "      <td>500.000000</td>\n",
       "      <td>500.000000</td>\n",
       "      <td>500.000000</td>\n",
       "    </tr>\n",
       "    <tr>\n",
       "      <th>mean</th>\n",
       "      <td>4.396000</td>\n",
       "      <td>3.558000</td>\n",
       "      <td>3.250000</td>\n",
       "      <td>4.560000</td>\n",
       "      <td>3.40200</td>\n",
       "      <td>4.230000</td>\n",
       "      <td>2.276000</td>\n",
       "      <td>3.778000</td>\n",
       "    </tr>\n",
       "    <tr>\n",
       "      <th>std</th>\n",
       "      <td>0.579531</td>\n",
       "      <td>0.955228</td>\n",
       "      <td>1.103601</td>\n",
       "      <td>0.625446</td>\n",
       "      <td>0.93066</td>\n",
       "      <td>0.768297</td>\n",
       "      <td>0.849274</td>\n",
       "      <td>0.813658</td>\n",
       "    </tr>\n",
       "    <tr>\n",
       "      <th>min</th>\n",
       "      <td>3.000000</td>\n",
       "      <td>1.000000</td>\n",
       "      <td>1.000000</td>\n",
       "      <td>2.000000</td>\n",
       "      <td>1.00000</td>\n",
       "      <td>1.000000</td>\n",
       "      <td>1.000000</td>\n",
       "      <td>1.000000</td>\n",
       "    </tr>\n",
       "    <tr>\n",
       "      <th>25%</th>\n",
       "      <td>4.000000</td>\n",
       "      <td>3.000000</td>\n",
       "      <td>2.000000</td>\n",
       "      <td>4.000000</td>\n",
       "      <td>3.00000</td>\n",
       "      <td>4.000000</td>\n",
       "      <td>2.000000</td>\n",
       "      <td>3.000000</td>\n",
       "    </tr>\n",
       "    <tr>\n",
       "      <th>50%</th>\n",
       "      <td>4.000000</td>\n",
       "      <td>4.000000</td>\n",
       "      <td>3.000000</td>\n",
       "      <td>5.000000</td>\n",
       "      <td>3.00000</td>\n",
       "      <td>4.000000</td>\n",
       "      <td>2.000000</td>\n",
       "      <td>4.000000</td>\n",
       "    </tr>\n",
       "    <tr>\n",
       "      <th>75%</th>\n",
       "      <td>5.000000</td>\n",
       "      <td>4.000000</td>\n",
       "      <td>4.000000</td>\n",
       "      <td>5.000000</td>\n",
       "      <td>4.00000</td>\n",
       "      <td>5.000000</td>\n",
       "      <td>3.000000</td>\n",
       "      <td>4.000000</td>\n",
       "    </tr>\n",
       "    <tr>\n",
       "      <th>max</th>\n",
       "      <td>5.000000</td>\n",
       "      <td>5.000000</td>\n",
       "      <td>5.000000</td>\n",
       "      <td>5.000000</td>\n",
       "      <td>5.00000</td>\n",
       "      <td>5.000000</td>\n",
       "      <td>5.000000</td>\n",
       "      <td>5.000000</td>\n",
       "    </tr>\n",
       "  </tbody>\n",
       "</table>\n",
       "</div>"
      ],
      "text/plain": [
       "               Q1          Q2          Q3          Q4         Q5          Q6  \\\n",
       "count  500.000000  500.000000  500.000000  500.000000  500.00000  500.000000   \n",
       "mean     4.396000    3.558000    3.250000    4.560000    3.40200    4.230000   \n",
       "std      0.579531    0.955228    1.103601    0.625446    0.93066    0.768297   \n",
       "min      3.000000    1.000000    1.000000    2.000000    1.00000    1.000000   \n",
       "25%      4.000000    3.000000    2.000000    4.000000    3.00000    4.000000   \n",
       "50%      4.000000    4.000000    3.000000    5.000000    3.00000    4.000000   \n",
       "75%      5.000000    4.000000    4.000000    5.000000    4.00000    5.000000   \n",
       "max      5.000000    5.000000    5.000000    5.000000    5.00000    5.000000   \n",
       "\n",
       "               Q7          Q8  \n",
       "count  500.000000  500.000000  \n",
       "mean     2.276000    3.778000  \n",
       "std      0.849274    0.813658  \n",
       "min      1.000000    1.000000  \n",
       "25%      2.000000    3.000000  \n",
       "50%      2.000000    4.000000  \n",
       "75%      3.000000    4.000000  \n",
       "max      5.000000    5.000000  "
      ]
     },
     "execution_count": 5,
     "metadata": {},
     "output_type": "execute_result"
    }
   ],
   "source": [
    "data.describe()"
   ]
  },
  {
   "cell_type": "markdown",
   "metadata": {},
   "source": [
    "# Menghitung korelasi"
   ]
  },
  {
   "cell_type": "markdown",
   "metadata": {},
   "source": [
    "Menentukan apabila data satu barhubungan dengan data lainnya"
   ]
  },
  {
   "cell_type": "code",
   "execution_count": 9,
   "metadata": {},
   "outputs": [
    {
     "data": {
      "text/html": [
       "<div>\n",
       "<style scoped>\n",
       "    .dataframe tbody tr th:only-of-type {\n",
       "        vertical-align: middle;\n",
       "    }\n",
       "\n",
       "    .dataframe tbody tr th {\n",
       "        vertical-align: top;\n",
       "    }\n",
       "\n",
       "    .dataframe thead th {\n",
       "        text-align: right;\n",
       "    }\n",
       "</style>\n",
       "<table border=\"1\" class=\"dataframe\">\n",
       "  <thead>\n",
       "    <tr style=\"text-align: right;\">\n",
       "      <th></th>\n",
       "      <th>Q1</th>\n",
       "      <th>Q2</th>\n",
       "      <th>Q3</th>\n",
       "      <th>Q4</th>\n",
       "      <th>Q5</th>\n",
       "      <th>Q6</th>\n",
       "      <th>Q7</th>\n",
       "      <th>Q8</th>\n",
       "    </tr>\n",
       "  </thead>\n",
       "  <tbody>\n",
       "    <tr>\n",
       "      <th>Q1</th>\n",
       "      <td>1.000000</td>\n",
       "      <td>0.291473</td>\n",
       "      <td>0.249102</td>\n",
       "      <td>0.199701</td>\n",
       "      <td>0.094392</td>\n",
       "      <td>0.191106</td>\n",
       "      <td>-0.067786</td>\n",
       "      <td>0.246308</td>\n",
       "    </tr>\n",
       "    <tr>\n",
       "      <th>Q2</th>\n",
       "      <td>0.291473</td>\n",
       "      <td>1.000000</td>\n",
       "      <td>0.401584</td>\n",
       "      <td>0.079698</td>\n",
       "      <td>0.089814</td>\n",
       "      <td>0.100569</td>\n",
       "      <td>-0.037064</td>\n",
       "      <td>0.069457</td>\n",
       "    </tr>\n",
       "    <tr>\n",
       "      <th>Q3</th>\n",
       "      <td>0.249102</td>\n",
       "      <td>0.401584</td>\n",
       "      <td>1.000000</td>\n",
       "      <td>0.185814</td>\n",
       "      <td>0.102924</td>\n",
       "      <td>0.047861</td>\n",
       "      <td>-0.007484</td>\n",
       "      <td>0.104334</td>\n",
       "    </tr>\n",
       "    <tr>\n",
       "      <th>Q4</th>\n",
       "      <td>0.199701</td>\n",
       "      <td>0.079698</td>\n",
       "      <td>0.185814</td>\n",
       "      <td>1.000000</td>\n",
       "      <td>0.097915</td>\n",
       "      <td>0.248557</td>\n",
       "      <td>-0.053875</td>\n",
       "      <td>0.146333</td>\n",
       "    </tr>\n",
       "    <tr>\n",
       "      <th>Q5</th>\n",
       "      <td>0.094392</td>\n",
       "      <td>0.089814</td>\n",
       "      <td>0.102924</td>\n",
       "      <td>0.097915</td>\n",
       "      <td>1.000000</td>\n",
       "      <td>0.094648</td>\n",
       "      <td>-0.026562</td>\n",
       "      <td>0.012232</td>\n",
       "    </tr>\n",
       "    <tr>\n",
       "      <th>Q6</th>\n",
       "      <td>0.191106</td>\n",
       "      <td>0.100569</td>\n",
       "      <td>0.047861</td>\n",
       "      <td>0.248557</td>\n",
       "      <td>0.094648</td>\n",
       "      <td>1.000000</td>\n",
       "      <td>-0.235692</td>\n",
       "      <td>0.165192</td>\n",
       "    </tr>\n",
       "    <tr>\n",
       "      <th>Q7</th>\n",
       "      <td>-0.067786</td>\n",
       "      <td>-0.037064</td>\n",
       "      <td>-0.007484</td>\n",
       "      <td>-0.053875</td>\n",
       "      <td>-0.026562</td>\n",
       "      <td>-0.235692</td>\n",
       "      <td>1.000000</td>\n",
       "      <td>0.013445</td>\n",
       "    </tr>\n",
       "    <tr>\n",
       "      <th>Q8</th>\n",
       "      <td>0.246308</td>\n",
       "      <td>0.069457</td>\n",
       "      <td>0.104334</td>\n",
       "      <td>0.146333</td>\n",
       "      <td>0.012232</td>\n",
       "      <td>0.165192</td>\n",
       "      <td>0.013445</td>\n",
       "      <td>1.000000</td>\n",
       "    </tr>\n",
       "  </tbody>\n",
       "</table>\n",
       "</div>"
      ],
      "text/plain": [
       "          Q1        Q2        Q3        Q4        Q5        Q6        Q7  \\\n",
       "Q1  1.000000  0.291473  0.249102  0.199701  0.094392  0.191106 -0.067786   \n",
       "Q2  0.291473  1.000000  0.401584  0.079698  0.089814  0.100569 -0.037064   \n",
       "Q3  0.249102  0.401584  1.000000  0.185814  0.102924  0.047861 -0.007484   \n",
       "Q4  0.199701  0.079698  0.185814  1.000000  0.097915  0.248557 -0.053875   \n",
       "Q5  0.094392  0.089814  0.102924  0.097915  1.000000  0.094648 -0.026562   \n",
       "Q6  0.191106  0.100569  0.047861  0.248557  0.094648  1.000000 -0.235692   \n",
       "Q7 -0.067786 -0.037064 -0.007484 -0.053875 -0.026562 -0.235692  1.000000   \n",
       "Q8  0.246308  0.069457  0.104334  0.146333  0.012232  0.165192  0.013445   \n",
       "\n",
       "          Q8  \n",
       "Q1  0.246308  \n",
       "Q2  0.069457  \n",
       "Q3  0.104334  \n",
       "Q4  0.146333  \n",
       "Q5  0.012232  \n",
       "Q6  0.165192  \n",
       "Q7  0.013445  \n",
       "Q8  1.000000  "
      ]
     },
     "execution_count": 9,
     "metadata": {},
     "output_type": "execute_result"
    }
   ],
   "source": [
    "corelation = data.corr()\n",
    "corelation"
   ]
  },
  {
   "cell_type": "markdown",
   "metadata": {},
   "source": [
    "# Map Correlation"
   ]
  },
  {
   "cell_type": "code",
   "execution_count": 9,
   "metadata": {},
   "outputs": [
    {
     "data": {
      "text/plain": [
       "<function matplotlib.pyplot.show(*args, **kw)>"
      ]
     },
     "execution_count": 9,
     "metadata": {},
     "output_type": "execute_result"
    },
    {
     "data": {
      "image/png": "[encoded data removed]",
      "text/plain": [
       "<Figure size 2880x2880 with 2 Axes>"
      ]
     },
     "metadata": {
      "needs_background": "light"
     },
     "output_type": "display_data"
    }
   ],
   "source": [
    "#Peta Korelasi\n",
    "#Nilai korelasi yang lebih tinggi ditunjukan dengan warna yang lebih terang\n",
    "f,ax = plt.subplots(figsize=(40,40))\n",
    "sns.heatmap(corelation, annot=True, linewidths=.5, fmt='.3f', ax=ax)\n",
    "plt.show"
   ]
  },
  {
   "cell_type": "markdown",
   "metadata": {},
   "source": [
    "Dilihat dari hasil korelasi perhitungan menggunakan metode Kendall, hanya terdapat satu pertanyaan dengan skor paling tinggi yaitu:                                                                              \n",
    "\n",
    "Pertanyaan antara Apakah kalian tahu bahwa web design merupakan kategori dari design grafis dan pertanyaan Apakah kalian mengetahui tentang tipografi. Kedua pertanyaan ini memiliki skor 0.401 atau dengan menggunakan correlation map, pertanyaan ini memiliki warna yang lebih terang dari data yang lain.                                                                                                                                \n",
    "\n",
    "Dari hasil yang kami dapatkan, dapat disimpulkan bahwa :                                                                           Hasil yang ada memiliki korelasi bahwa dalam kategori web design sebagai desain grafis terdapat sebuah tipografi dalam penggunaannya."
   ]
  },
  {
   "cell_type": "markdown",
   "metadata": {},
   "source": [
    "# ALPHA CRONBACH TEST"
   ]
  },
  {
   "cell_type": "code",
   "execution_count": 3,
   "metadata": {},
   "outputs": [],
   "source": [
    "mydata<-read.csv('DataRE.csv')"
   ]
  },
  {
   "cell_type": "markdown",
   "metadata": {},
   "source": [
    "# Memunculkan enam data pertama"
   ]
  },
  {
   "cell_type": "code",
   "execution_count": 94,
   "metadata": {},
   "outputs": [
    {
     "data": {
      "text/html": [
       "<table>\n",
       "<thead><tr><th scope=col>Q1</th><th scope=col>Q2</th><th scope=col>Q3</th><th scope=col>Q4</th><th scope=col>Q5</th><th scope=col>Q6</th><th scope=col>Q7</th><th scope=col>Q8</th></tr></thead>\n",
       "<tbody>\n",
       "\t<tr><td>5</td><td>4</td><td>2</td><td>5</td><td>2</td><td>5</td><td>1</td><td>5</td></tr>\n",
       "\t<tr><td>5</td><td>4</td><td>2</td><td>4</td><td>3</td><td>2</td><td>2</td><td>5</td></tr>\n",
       "\t<tr><td>5</td><td>4</td><td>4</td><td>5</td><td>3</td><td>4</td><td>3</td><td>4</td></tr>\n",
       "\t<tr><td>5</td><td>4</td><td>5</td><td>5</td><td>2</td><td>4</td><td>3</td><td>4</td></tr>\n",
       "\t<tr><td>5</td><td>4</td><td>4</td><td>4</td><td>2</td><td>4</td><td>3</td><td>5</td></tr>\n",
       "\t<tr><td>4</td><td>2</td><td>2</td><td>4</td><td>4</td><td>4</td><td>2</td><td>4</td></tr>\n",
       "</tbody>\n",
       "</table>\n"
      ],
      "text/latex": [
       "\\begin{tabular}{r|llllllll}\n",
       " Q1 & Q2 & Q3 & Q4 & Q5 & Q6 & Q7 & Q8\\\\\n",
       "\\hline\n",
       "\t 5 & 4 & 2 & 5 & 2 & 5 & 1 & 5\\\\\n",
       "\t 5 & 4 & 2 & 4 & 3 & 2 & 2 & 5\\\\\n",
       "\t 5 & 4 & 4 & 5 & 3 & 4 & 3 & 4\\\\\n",
       "\t 5 & 4 & 5 & 5 & 2 & 4 & 3 & 4\\\\\n",
       "\t 5 & 4 & 4 & 4 & 2 & 4 & 3 & 5\\\\\n",
       "\t 4 & 2 & 2 & 4 & 4 & 4 & 2 & 4\\\\\n",
       "\\end{tabular}\n"
      ],
      "text/markdown": [
       "\n",
       "| Q1 | Q2 | Q3 | Q4 | Q5 | Q6 | Q7 | Q8 |\n",
       "|---|---|---|---|---|---|---|---|\n",
       "| 5 | 4 | 2 | 5 | 2 | 5 | 1 | 5 |\n",
       "| 5 | 4 | 2 | 4 | 3 | 2 | 2 | 5 |\n",
       "| 5 | 4 | 4 | 5 | 3 | 4 | 3 | 4 |\n",
       "| 5 | 4 | 5 | 5 | 2 | 4 | 3 | 4 |\n",
       "| 5 | 4 | 4 | 4 | 2 | 4 | 3 | 5 |\n",
       "| 4 | 2 | 2 | 4 | 4 | 4 | 2 | 4 |\n",
       "\n"
      ],
      "text/plain": [
       "  Q1 Q2 Q3 Q4 Q5 Q6 Q7 Q8\n",
       "1 5  4  2  5  2  5  1  5 \n",
       "2 5  4  2  4  3  2  2  5 \n",
       "3 5  4  4  5  3  4  3  4 \n",
       "4 5  4  5  5  2  4  3  4 \n",
       "5 5  4  4  4  2  4  3  5 \n",
       "6 4  2  2  4  4  4  2  4 "
      ]
     },
     "metadata": {},
     "output_type": "display_data"
    }
   ],
   "source": [
    "head(mydata)"
   ]
  },
  {
   "cell_type": "code",
   "execution_count": 5,
   "metadata": {},
   "outputs": [
    {
     "name": "stderr",
     "output_type": "stream",
     "text": [
      "Warning message:\n",
      "\"package 'psych' was built under R version 3.6.3\""
     ]
    }
   ],
   "source": [
    "library('psych')"
   ]
  },
  {
   "cell_type": "code",
   "execution_count": 6,
   "metadata": {},
   "outputs": [
    {
     "name": "stderr",
     "output_type": "stream",
     "text": [
      "Warning message in var(if (is.vector(x) || is.factor(x)) x else as.double(x), na.rm = na.rm):\n",
      "\"NAs introduced by coercion\"Warning message in alpha(mydata):\n",
      "\"Item = X had no variance and was deleted\"Warning message in alpha(mydata):\n",
      "\"Item = X.1 had no variance and was deleted\"Warning message in alpha(mydata):\n",
      "\"Some items were negatively correlated with the total scale and probably \n",
      "should be reversed.  \n",
      "To do this, run the function again with the 'check.keys=TRUE' option\""
     ]
    },
    {
     "name": "stdout",
     "output_type": "stream",
     "text": [
      "Some items ( Q7 ) were negatively correlated with the total scale and \n",
      "probably should be reversed.  \n",
      "To do this, run the function again with the 'check.keys=TRUE' option"
     ]
    },
    {
     "data": {
      "text/plain": [
       "\n",
       "Reliability analysis   \n",
       "Call: alpha(x = mydata)\n",
       "\n",
       "  raw_alpha std.alpha G6(smc) average_r  S/N   ase mean   sd median_r\n",
       "      0.45      0.47    0.49       0.1 0.89 0.036  3.7 0.38    0.096\n",
       "\n",
       " lower alpha upper     95% confidence boundaries\n",
       "0.38 0.45 0.52 \n",
       "\n",
       " Reliability if an item is dropped:\n",
       "   raw_alpha std.alpha G6(smc) average_r  S/N alpha se  var.r med.r\n",
       "Q1      0.37      0.37    0.39     0.076 0.58    0.042 0.0159 0.090\n",
       "Q2      0.36      0.40    0.40     0.086 0.66    0.043 0.0152 0.098\n",
       "Q3      0.34      0.38    0.39     0.082 0.62    0.045 0.0157 0.094\n",
       "Q4      0.40      0.41    0.43     0.090 0.70    0.040 0.0194 0.094\n",
       "Q5      0.45      0.47    0.49     0.111 0.88    0.036 0.0215 0.104\n",
       "Q6      0.44      0.45    0.45     0.104 0.82    0.037 0.0153 0.094\n",
       "Q7      0.54      0.56    0.55     0.153 1.27    0.031 0.0089 0.104\n",
       "Q8      0.42      0.43    0.45     0.097 0.76    0.038 0.0206 0.095\n",
       "\n",
       " Item statistics \n",
       "     n raw.r std.r r.cor r.drop mean   sd\n",
       "Q1 500  0.53  0.60  0.54   0.38  4.4 0.58\n",
       "Q2 500  0.59  0.54  0.47   0.32  3.6 0.96\n",
       "Q3 500  0.64  0.56  0.50   0.34  3.2 1.10\n",
       "Q4 500  0.45  0.52  0.40   0.26  4.6 0.63\n",
       "Q5 500  0.43  0.40  0.19   0.13  3.4 0.93\n",
       "Q6 500  0.39  0.44  0.29   0.15  4.2 0.77\n",
       "Q7 500  0.18  0.16 -0.14  -0.10  2.3 0.85\n",
       "Q8 500  0.45  0.48  0.33   0.20  3.8 0.81\n",
       "\n",
       "Non missing response frequency for each item\n",
       "      1    2    3    4    5 miss\n",
       "Q1 0.00 0.00 0.05 0.51 0.44    0\n",
       "Q2 0.01 0.18 0.17 0.52 0.12    0\n",
       "Q3 0.02 0.33 0.17 0.36 0.13    0\n",
       "Q4 0.00 0.01 0.04 0.33 0.62    0\n",
       "Q5 0.01 0.18 0.33 0.37 0.11    0\n",
       "Q6 0.00 0.03 0.10 0.47 0.40    0\n",
       "Q7 0.14 0.56 0.21 0.08 0.01    0\n",
       "Q8 0.00 0.05 0.31 0.45 0.19    0"
      ]
     },
     "metadata": {},
     "output_type": "display_data"
    },
    {
     "name": "stdout",
     "output_type": "stream",
     "text": [
      "[1] \"Q1 = Desain grafis diminati karena membantu penyampaian informasi masa sekarang\"\n",
      "[1] \"Q2 = Apakah kalian tahu bahwa web design merupakan kategori dari design grafis\"\n",
      "[1] \"Q3 = Apakah kalian mengetahui tentang tipografi\"\n",
      "[1] \"Q4 = Pewarnaan berperan penting dalam pembuatan sebuah karya\"\n",
      "[1] \"Q5 = Membuat desain grafis membutuhkan biaya yang besar\"\n",
      "[1] \"Q6 = Waktu pembuatan dan tahapan pembuatan mempengaruhi harga suatu desain grafis\"\n",
      "[1] \"Q7 = Banyak orang kurang mengerti isi pesan yang terkandung dalam karya desain grafis\"\n",
      "[1] \"Q8 = Sebuah desain grafis dapat disimpan dan dilihat dalam format .pdf\"\n"
     ]
    }
   ],
   "source": [
    "alpha(mydata)\n",
    "print('Q1 = Desain grafis diminati karena membantu penyampaian informasi masa sekarang')\n",
    "print('Q2 = Apakah kalian tahu bahwa web design merupakan kategori dari design grafis')\n",
    "print('Q3 = Apakah kalian mengetahui tentang tipografi')\n",
    "print('Q4 = Pewarnaan berperan penting dalam pembuatan sebuah karya')\n",
    "print('Q5 = Membuat desain grafis membutuhkan biaya yang besar')\n",
    "print('Q6 = Waktu pembuatan dan tahapan pembuatan mempengaruhi harga suatu desain grafis')\n",
    "print('Q7 = Banyak orang kurang mengerti isi pesan yang terkandung dalam karya desain grafis')\n",
    "print('Q8 = Sebuah desain grafis dapat disimpan dan dilihat dalam format .pdf')"
   ]
  },
  {
   "cell_type": "markdown",
   "metadata": {},
   "source": [
    "Nilai reabilitas pada Q1 sebesar 0,37, standar reabilitas 0,37 dengan rata-rata 0,076\n",
    "\n",
    "Nilai reabilitas pada Q2 sebesar 0,36, standar reabilitas 0,40 dengan rata-rata 0,086\n",
    "\n",
    "Nilai reabilitas pada Q3 sebesar 0,34, standar reabilitas 0,38 dengan rata-rata 0,082\n",
    "\n",
    "Nilai reabilitas pada Q4 sebesar 0,40, standar reabilitas 0,41 dengan rata-rata 0,090\n",
    "\n",
    "Nilai reabilitas pada Q5 sebesar 0,45, standar reabilitas 0,47 dengan rata-rata 0,111\n",
    "\n",
    "Nilai reabilitas pada Q6 sebesar 0,44, standar reabilitas 0,45 dengan rata-rata 0,104\n",
    "\n",
    "Nilai reabilitas pada Q7 sebesar 0,54, standar reabilitas 0,56 dengan rata-rata 0,153\n",
    "\n",
    "Nilai reabilitas pada Q8 sebesar 0,42, standar reabilitas 0,43 dengan rata-rata 0,097\n",
    "\n",
    "\n",
    "Nilai reabilitas pada Q1 sebesar 0,53 dan standar reabilitas 0,60\n",
    "\n",
    "Nilai reabilitas pada Q2 sebesar 0,59 dan standar reabilitas 0,54\n",
    "\n",
    "Nilai reabilitas pada Q3 sebesar 0,64 dan standar reabilitas 0,56\n",
    "\n",
    "Nilai reabilitas pada Q4 sebesar 0,45 dan standar reabilitas 0,52\n",
    "\n",
    "Nilai reabilitas pada Q5 sebesar 0,43 dan standar reabilitas 0,40\n",
    "\n",
    "Nilai reabilitas pada Q6 sebesar 0,39 dan standar reabilitas 0,44\n",
    "\n",
    "Nilai reabilitas pada Q7 sebesar 0,18 dan standar reabilitas 0,16\n",
    "\n",
    "Nilai reabilitas pada Q8 sebesar 0,45 dan standar reabilitas 0,48\n",
    "\n",
    "Keterangan =\n",
    "\n",
    "Q1 = Desain grafis diminati karena membantu penyampaian informasi masa sekarang\n",
    "\n",
    "Q2 = Apakah kalian tahu bahwa web design merupakan kategori dari design grafis\n",
    "\n",
    "Q3 = Apakah kalian mengetahui tentang tipografi\n",
    "\n",
    "Q4 = Pewarnaan berperan penting dalam pembuatan sebuah karya\n",
    "\n",
    "Q5 = Membuat desain grafis membutuhkan biaya yang besar\n",
    "\n",
    "Q6 = Waktu pembuatan dan tahapan pembuatan mempengaruhi harga suatu desain grafis\n",
    "\n",
    "Q7 = Banyak orang kurang mengerti isi pesan yang terkandung dalam karya desain grafis\n",
    "\n",
    "Q8 = Sebuah desain grafis dapat disimpan dan dilihat dalam format pdf"
   ]
  },
  {
   "cell_type": "markdown",
   "metadata": {},
   "source": [
    "# T-TEST"
   ]
  },
  {
   "cell_type": "code",
   "execution_count": 19,
   "metadata": {},
   "outputs": [],
   "source": [
    "mydata<-read.csv('DataRE.csv')"
   ]
  },
  {
   "cell_type": "code",
   "execution_count": 24,
   "metadata": {},
   "outputs": [
    {
     "name": "stderr",
     "output_type": "stream",
     "text": [
      "The following objects are masked from mydata (pos = 3):\n",
      "\n",
      "    Q1, Q2, Q3, Q4, Q5, Q6, Q7, Q8\n",
      "\n",
      "The following objects are masked from mydata (pos = 4):\n",
      "\n",
      "    Q1, Q2, Q3, Q4, Q5, Q6, Q7, Q8\n",
      "\n",
      "The following objects are masked from mydata (pos = 5):\n",
      "\n",
      "    Q1, Q2, Q3, Q4, Q5, Q6, Q7, Q8\n",
      "\n",
      "The following objects are masked from mydata (pos = 6):\n",
      "\n",
      "    Q1, Q2, Q3, Q4, Q5, Q6, Q7, Q8\n",
      "\n"
     ]
    }
   ],
   "source": [
    "attach(mydata)"
   ]
  },
  {
   "cell_type": "markdown",
   "metadata": {},
   "source": [
    "# Nama dari semua data\n"
   ]
  },
  {
   "cell_type": "code",
   "execution_count": 25,
   "metadata": {},
   "outputs": [
    {
     "data": {
      "text/html": [
       "<ol class=list-inline>\n",
       "\t<li>'Q1'</li>\n",
       "\t<li>'Q2'</li>\n",
       "\t<li>'Q3'</li>\n",
       "\t<li>'Q4'</li>\n",
       "\t<li>'Q5'</li>\n",
       "\t<li>'Q6'</li>\n",
       "\t<li>'Q7'</li>\n",
       "\t<li>'Q8'</li>\n",
       "</ol>\n"
      ],
      "text/latex": [
       "\\begin{enumerate*}\n",
       "\\item 'Q1'\n",
       "\\item 'Q2'\n",
       "\\item 'Q3'\n",
       "\\item 'Q4'\n",
       "\\item 'Q5'\n",
       "\\item 'Q6'\n",
       "\\item 'Q7'\n",
       "\\item 'Q8'\n",
       "\\end{enumerate*}\n"
      ],
      "text/markdown": [
       "1. 'Q1'\n",
       "2. 'Q2'\n",
       "3. 'Q3'\n",
       "4. 'Q4'\n",
       "5. 'Q5'\n",
       "6. 'Q6'\n",
       "7. 'Q7'\n",
       "8. 'Q8'\n",
       "\n",
       "\n"
      ],
      "text/plain": [
       "[1] \"Q1\" \"Q2\" \"Q3\" \"Q4\" \"Q5\" \"Q6\" \"Q7\" \"Q8\""
      ]
     },
     "metadata": {},
     "output_type": "display_data"
    }
   ],
   "source": [
    "names(mydata)"
   ]
  },
  {
   "cell_type": "markdown",
   "metadata": {},
   "source": [
    "# Dimensi data"
   ]
  },
  {
   "cell_type": "code",
   "execution_count": 26,
   "metadata": {},
   "outputs": [
    {
     "data": {
      "text/html": [
       "<ol class=list-inline>\n",
       "\t<li>500</li>\n",
       "\t<li>8</li>\n",
       "</ol>\n"
      ],
      "text/latex": [
       "\\begin{enumerate*}\n",
       "\\item 500\n",
       "\\item 8\n",
       "\\end{enumerate*}\n"
      ],
      "text/markdown": [
       "1. 500\n",
       "2. 8\n",
       "\n",
       "\n"
      ],
      "text/plain": [
       "[1] 500   8"
      ]
     },
     "metadata": {},
     "output_type": "display_data"
    }
   ],
   "source": [
    "dim(mydata)"
   ]
  },
  {
   "cell_type": "markdown",
   "metadata": {},
   "source": [
    "# Paired T-test"
   ]
  },
  {
   "cell_type": "code",
   "execution_count": 38,
   "metadata": {},
   "outputs": [
    {
     "data": {
      "text/plain": [
       "\n",
       "\tPaired t-test\n",
       "\n",
       "data:  Q1 and Q2\n",
       "t = 19.477, df = 499, p-value < 2.2e-16\n",
       "alternative hypothesis: true difference in means is not equal to 0\n",
       "99 percent confidence interval:\n",
       " 0.7267476 0.9492524\n",
       "sample estimates:\n",
       "mean of the differences \n",
       "                  0.838 \n"
      ]
     },
     "metadata": {},
     "output_type": "display_data"
    }
   ],
   "source": [
    "t.test(Q1, Q2, mu=0, alt=\"two.sided\", paired=T, conf.level=0.99)"
   ]
  },
  {
   "cell_type": "markdown",
   "metadata": {},
   "source": [
    "Pada data paired T-test Q1 dan Q2 dapat disimpulkan bahwa rata-rata pada kedua sampel adalah 0.838, dari rata-rata perbedaan kedua sampel besar dari 499 sampel ukuran(df) yang menghasilkan nilai t =19.477 yang secara statistic nilai p < 2.2e-16\n",
    "\n"
   ]
  },
  {
   "cell_type": "code",
   "execution_count": 39,
   "metadata": {},
   "outputs": [
    {
     "data": {
      "text/plain": [
       "\n",
       "\tPaired t-test\n",
       "\n",
       "data:  Q1 and Q3\n",
       "t = 23.057, df = 499, p-value < 2.2e-16\n",
       "alternative hypothesis: true difference in means is not equal to 0\n",
       "99 percent confidence interval:\n",
       " 1.017484 1.274516\n",
       "sample estimates:\n",
       "mean of the differences \n",
       "                  1.146 \n"
      ]
     },
     "metadata": {},
     "output_type": "display_data"
    }
   ],
   "source": [
    "t.test(Q1, Q3, mu=0, alt=\"two.sided\", paired=T, conf.level=0.99)"
   ]
  },
  {
   "cell_type": "markdown",
   "metadata": {},
   "source": [
    "Pada data paired T-test Q1 dan Q3 dapat disimpulkan bahwa rata-rata pada kedua sampel adalah 1.146, dari rata-rata perbedaan kedua sampel besar dari 499 sampel ukuran(df) yang menghasilkan nilai t =23.057 yang secara statistic nilai p < 2.2e-16\n",
    "\n"
   ]
  },
  {
   "cell_type": "code",
   "execution_count": 40,
   "metadata": {},
   "outputs": [
    {
     "data": {
      "text/plain": [
       "\n",
       "\tPaired t-test\n",
       "\n",
       "data:  Q1 and Q4\n",
       "t = -4.8058, df = 499, p-value = 2.042e-06\n",
       "alternative hypothesis: true difference in means is not equal to 0\n",
       "99 percent confidence interval:\n",
       " -0.25223843 -0.07576157\n",
       "sample estimates:\n",
       "mean of the differences \n",
       "                 -0.164 \n"
      ]
     },
     "metadata": {},
     "output_type": "display_data"
    }
   ],
   "source": [
    "t.test(Q1, Q4, mu=0, alt=\"two.sided\", paired=T, conf.level=0.99)"
   ]
  },
  {
   "cell_type": "markdown",
   "metadata": {},
   "source": [
    "Pada data paired T-test Q1 dan Q4 dapat disimpulkan bahwa rata-rata pada kedua sampel adalah -0,164, dari rata-rata perbedaan kedua sampel besar dari 499 sampel ukuran(df) yang menghasilkan nilai t = -4.8058 yang secara statistic nilai p = 2.042e-06\n",
    "\n"
   ]
  },
  {
   "cell_type": "code",
   "execution_count": 41,
   "metadata": {},
   "outputs": [
    {
     "data": {
      "text/plain": [
       "\n",
       "\tPaired t-test\n",
       "\n",
       "data:  Q1 and Q5\n",
       "t = 21.191, df = 499, p-value < 2.2e-16\n",
       "alternative hypothesis: true difference in means is not equal to 0\n",
       "99 percent confidence interval:\n",
       " 0.87271 1.11529\n",
       "sample estimates:\n",
       "mean of the differences \n",
       "                  0.994 \n"
      ]
     },
     "metadata": {},
     "output_type": "display_data"
    }
   ],
   "source": [
    "t.test(Q1, Q5, mu=0, alt=\"two.sided\", paired=T, conf.level=0.99)"
   ]
  },
  {
   "cell_type": "markdown",
   "metadata": {},
   "source": [
    "Pada data paired T-test Q1 dan Q5 dapat disimpulkan bahwa rata-rata pada kedua sampel adalah 0.994, dari rata-rata perbedaan kedua sampel besar dari 499 sampel ukuran(df) yang menghasilkan nilai t = 21.191 yang secara statistic nilai p = p < 2.2e-16\n",
    "\n"
   ]
  },
  {
   "cell_type": "code",
   "execution_count": 42,
   "metadata": {},
   "outputs": [
    {
     "data": {
      "text/plain": [
       "\n",
       "\tPaired t-test\n",
       "\n",
       "data:  Q1 and Q6\n",
       "t = 4.2692, df = 499, p-value = 2.349e-05\n",
       "alternative hypothesis: true difference in means is not equal to 0\n",
       "99 percent confidence interval:\n",
       " 0.06545874 0.26654126\n",
       "sample estimates:\n",
       "mean of the differences \n",
       "                  0.166 \n"
      ]
     },
     "metadata": {},
     "output_type": "display_data"
    }
   ],
   "source": [
    "t.test(Q1, Q6, mu=0, alt=\"two.sided\", paired=T, conf.level=0.99)"
   ]
  },
  {
   "cell_type": "markdown",
   "metadata": {},
   "source": [
    "Pada data paired T-test Q1 dan Q6 dapat disimpulkan bahwa rata-rata pada kedua sampel adalah 0.166, dari rata-rata perbedaan kedua sampel besar dari 499 sampel ukuran(df) yang menghasilkan nilai t = 4.2692 yang secara statistic nilai p = 2.349e-05\n",
    "\n"
   ]
  },
  {
   "cell_type": "code",
   "execution_count": 43,
   "metadata": {},
   "outputs": [
    {
     "data": {
      "text/plain": [
       "\n",
       "\tPaired t-test\n",
       "\n",
       "data:  Q1 and Q7\n",
       "t = 44.716, df = 499, p-value < 2.2e-16\n",
       "alternative hypothesis: true difference in means is not equal to 0\n",
       "99 percent confidence interval:\n",
       " 1.997411 2.242589\n",
       "sample estimates:\n",
       "mean of the differences \n",
       "                   2.12 \n"
      ]
     },
     "metadata": {},
     "output_type": "display_data"
    }
   ],
   "source": [
    "t.test(Q1, Q7, mu=0, alt=\"two.sided\", paired=T, conf.level=0.99)"
   ]
  },
  {
   "cell_type": "markdown",
   "metadata": {},
   "source": [
    "Pada data paired T-test Q1 dan Q7 dapat disimpulkan bahwa rata-rata pada kedua sampel adalah 2.12, dari rata-rata perbedaan kedua sampel besar dari 499 sampel ukuran(df) yang menghasilkan nilai t = 44.716 yang secara statistic nilai p = 2.2e-16\n",
    "\n"
   ]
  },
  {
   "cell_type": "code",
   "execution_count": 44,
   "metadata": {},
   "outputs": [
    {
     "data": {
      "text/plain": [
       "\n",
       "\tPaired t-test\n",
       "\n",
       "data:  Q1 and Q8\n",
       "t = 15.793, df = 499, p-value < 2.2e-16\n",
       "alternative hypothesis: true difference in means is not equal to 0\n",
       "99 percent confidence interval:\n",
       " 0.516819 0.719181\n",
       "sample estimates:\n",
       "mean of the differences \n",
       "                  0.618 \n"
      ]
     },
     "metadata": {},
     "output_type": "display_data"
    }
   ],
   "source": [
    "t.test(Q1, Q8, mu=0, alt=\"two.sided\", paired=T, conf.level=0.99)"
   ]
  },
  {
   "cell_type": "markdown",
   "metadata": {},
   "source": [
    "Pada data paired T-test Q1 dan Q8 dapat disimpulkan bahwa rata-rata pada kedua sampel adalah 0.618, dari rata-rata perbedaan kedua sampel besar dari 499 sampel ukuran(df) yang menghasilkan nilai t = 15.793 yang secara statistic nilai p = 2.2e-16"
   ]
  },
  {
   "cell_type": "code",
   "execution_count": 45,
   "metadata": {},
   "outputs": [
    {
     "data": {
      "text/plain": [
       "\n",
       "\tPaired t-test\n",
       "\n",
       "data:  Q2 and Q1\n",
       "t = -19.477, df = 499, p-value < 2.2e-16\n",
       "alternative hypothesis: true difference in means is not equal to 0\n",
       "99 percent confidence interval:\n",
       " -0.9492524 -0.7267476\n",
       "sample estimates:\n",
       "mean of the differences \n",
       "                 -0.838 \n"
      ]
     },
     "metadata": {},
     "output_type": "display_data"
    }
   ],
   "source": [
    "t.test(Q2, Q1, mu=0, alt=\"two.sided\", paired=T, conf.level=0.99)"
   ]
  },
  {
   "cell_type": "markdown",
   "metadata": {},
   "source": [
    "Pada data paired T-test Q2 dan Q1 dapat disimpulkan bahwa rata-rata pada kedua sampel adalah -0.838, dari rata-rata perbedaan kedua sampel besar dari 499 sampel ukuran(df) yang menghasilkan nilai t =-19.477 yang secara statistic nilai p < 2.2e-16\n",
    "\n"
   ]
  },
  {
   "cell_type": "code",
   "execution_count": 46,
   "metadata": {},
   "outputs": [
    {
     "data": {
      "text/plain": [
       "\n",
       "\tPaired t-test\n",
       "\n",
       "data:  Q2 and Q3\n",
       "t = 6.0786, df = 499, p-value = 2.411e-09\n",
       "alternative hypothesis: true difference in means is not equal to 0\n",
       "99 percent confidence interval:\n",
       " 0.1769828 0.4390172\n",
       "sample estimates:\n",
       "mean of the differences \n",
       "                  0.308 \n"
      ]
     },
     "metadata": {},
     "output_type": "display_data"
    }
   ],
   "source": [
    "t.test(Q2, Q3, mu=0, alt=\"two.sided\", paired=T, conf.level=0.99)"
   ]
  },
  {
   "cell_type": "markdown",
   "metadata": {},
   "source": [
    "Pada data paired T-test Q2 dan Q3 dapat disimpulkan bahwa rata-rata pada kedua sampel adalah 0.308, dari rata-rata perbedaan kedua sampel besar dari 499 sampel ukuran(df) yang menghasilkan nilai t =6.0786 yang secara statistic nilai p = 2.411e-09\n",
    "\n"
   ]
  },
  {
   "cell_type": "code",
   "execution_count": 47,
   "metadata": {},
   "outputs": [
    {
     "data": {
      "text/plain": [
       "\n",
       "\tPaired t-test\n",
       "\n",
       "data:  Q2 and Q4\n",
       "t = -20.382, df = 499, p-value < 2.2e-16\n",
       "alternative hypothesis: true difference in means is not equal to 0\n",
       "99 percent confidence interval:\n",
       " -1.129117 -0.874883\n",
       "sample estimates:\n",
       "mean of the differences \n",
       "                 -1.002 \n"
      ]
     },
     "metadata": {},
     "output_type": "display_data"
    }
   ],
   "source": [
    "t.test(Q2, Q4, mu=0, alt=\"two.sided\", paired=T, conf.level=0.99)"
   ]
  },
  {
   "cell_type": "markdown",
   "metadata": {},
   "source": [
    "Pada data paired T-test Q2 dan Q4 dapat disimpulkan bahwa rata-rata pada kedua sampel adalah -1.002, dari rata-rata perbedaan kedua sampel besar dari 499 sampel ukuran(df) yang menghasilkan nilai t =-20.382 yang secara statistic nilai p < 2.2e-16\n",
    "\n"
   ]
  },
  {
   "cell_type": "code",
   "execution_count": 48,
   "metadata": {},
   "outputs": [
    {
     "data": {
      "text/plain": [
       "\n",
       "\tPaired t-test\n",
       "\n",
       "data:  Q2 and Q5\n",
       "t = 2.7416, df = 499, p-value = 0.006334\n",
       "alternative hypothesis: true difference in means is not equal to 0\n",
       "99 percent confidence interval:\n",
       " 0.008868265 0.303131735\n",
       "sample estimates:\n",
       "mean of the differences \n",
       "                  0.156 \n"
      ]
     },
     "metadata": {},
     "output_type": "display_data"
    }
   ],
   "source": [
    "t.test(Q2, Q5, mu=0, alt=\"two.sided\", paired=T, conf.level=0.99)"
   ]
  },
  {
   "cell_type": "markdown",
   "metadata": {},
   "source": [
    "Pada data paired T-test Q2 dan Q5 dapat disimpulkan bahwa rata-rata pada kedua sampel adalah 0.156 dari rata-rata perbedaan kedua sampel besar dari 499 sampel ukuran(df) yang menghasilkan nilai t = 2.7416 yang secara statistic nilai p = 0.006334\n",
    "\n"
   ]
  },
  {
   "cell_type": "code",
   "execution_count": 49,
   "metadata": {},
   "outputs": [
    {
     "data": {
      "text/plain": [
       "\n",
       "\tPaired t-test\n",
       "\n",
       "data:  Q2 and Q6\n",
       "t = -12.908, df = 499, p-value < 2.2e-16\n",
       "alternative hypothesis: true difference in means is not equal to 0\n",
       "99 percent confidence interval:\n",
       " -0.8066127 -0.5373873\n",
       "sample estimates:\n",
       "mean of the differences \n",
       "                 -0.672 \n"
      ]
     },
     "metadata": {},
     "output_type": "display_data"
    }
   ],
   "source": [
    "t.test(Q2, Q6, mu=0, alt=\"two.sided\", paired=T, conf.level=0.99)"
   ]
  },
  {
   "cell_type": "markdown",
   "metadata": {},
   "source": [
    "Pada data paired T-test Q2 dan Q6 dapat disimpulkan bahwa rata-rata pada kedua sampel adalah -0.672, dari rata-rata perbedaan kedua sampel besar dari 499 sampel ukuran(df) yang menghasilkan nilai t =-12.908 yang secara statistic nilai p < 2.2e-16\n",
    "\n"
   ]
  },
  {
   "cell_type": "code",
   "execution_count": 50,
   "metadata": {},
   "outputs": [
    {
     "data": {
      "text/plain": [
       "\n",
       "\tPaired t-test\n",
       "\n",
       "data:  Q2 and Q7\n",
       "t = 22.026, df = 499, p-value < 2.2e-16\n",
       "alternative hypothesis: true difference in means is not equal to 0\n",
       "99 percent confidence interval:\n",
       " 1.1315 1.4325\n",
       "sample estimates:\n",
       "mean of the differences \n",
       "                  1.282 \n"
      ]
     },
     "metadata": {},
     "output_type": "display_data"
    }
   ],
   "source": [
    "t.test(Q2, Q7, mu=0, alt=\"two.sided\", paired=T, conf.level=0.99)"
   ]
  },
  {
   "cell_type": "markdown",
   "metadata": {},
   "source": [
    "Pada data paired T-test Q2 dan Q7 dapat disimpulkan bahwa rata-rata pada kedua sampel adalah 1..282, dari rata-rata perbedaan kedua sampel besar dari 499 sampel ukuran(df) yang menghasilkan nilai t = 22.026 yang secara statistic nilai p < 2.2e-16\n",
    "\n"
   ]
  },
  {
   "cell_type": "code",
   "execution_count": 51,
   "metadata": {},
   "outputs": [
    {
     "data": {
      "text/plain": [
       "\n",
       "\tPaired t-test\n",
       "\n",
       "data:  Q2 and Q8\n",
       "t = -4.0622, df = 499, p-value = 5.645e-05\n",
       "alternative hypothesis: true difference in means is not equal to 0\n",
       "99 percent confidence interval:\n",
       " -0.36003675 -0.07996325\n",
       "sample estimates:\n",
       "mean of the differences \n",
       "                  -0.22 \n"
      ]
     },
     "metadata": {},
     "output_type": "display_data"
    }
   ],
   "source": [
    "t.test(Q2, Q8, mu=0, alt=\"two.sided\", paired=T, conf.level=0.99)"
   ]
  },
  {
   "cell_type": "markdown",
   "metadata": {},
   "source": [
    "Pada data paired T-test Q2 dan Q8 dapat disimpulkan bahwa rata-rata pada kedua sampel adalah -0.22, dari rata-rata perbedaan kedua sampel besar dari 499 sampel ukuran(df) yang menghasilkan nilai t = -4.0622 yang secara statistic nilai p = 5.645-05"
   ]
  },
  {
   "cell_type": "code",
   "execution_count": 52,
   "metadata": {},
   "outputs": [
    {
     "data": {
      "text/plain": [
       "\n",
       "\tPaired t-test\n",
       "\n",
       "data:  Q3 and Q1\n",
       "t = -23.057, df = 499, p-value < 2.2e-16\n",
       "alternative hypothesis: true difference in means is not equal to 0\n",
       "99 percent confidence interval:\n",
       " -1.274516 -1.017484\n",
       "sample estimates:\n",
       "mean of the differences \n",
       "                 -1.146 \n"
      ]
     },
     "metadata": {},
     "output_type": "display_data"
    }
   ],
   "source": [
    "t.test(Q3, Q1, mu=0, alt=\"two.sided\", paired=T, conf.level=0.99)"
   ]
  },
  {
   "cell_type": "markdown",
   "metadata": {},
   "source": [
    "Pada data paired T-test Q3 dan Q1 dapat disimpulkan bahwa rata-rata pada kedua sampel adalah -1.146, dari rata-rata perbedaan kedua sampel besar dari 499 sampel ukuran(df) yang menghasilkan nilai t =-23.057 yang secara statistic nilai p < 2.2e-16\n",
    "\n"
   ]
  },
  {
   "cell_type": "code",
   "execution_count": 53,
   "metadata": {},
   "outputs": [
    {
     "data": {
      "text/plain": [
       "\n",
       "\tPaired t-test\n",
       "\n",
       "data:  Q3 and Q2\n",
       "t = -6.0786, df = 499, p-value = 2.411e-09\n",
       "alternative hypothesis: true difference in means is not equal to 0\n",
       "99 percent confidence interval:\n",
       " -0.4390172 -0.1769828\n",
       "sample estimates:\n",
       "mean of the differences \n",
       "                 -0.308 \n"
      ]
     },
     "metadata": {},
     "output_type": "display_data"
    }
   ],
   "source": [
    "t.test(Q3, Q2, mu=0, alt=\"two.sided\", paired=T, conf.level=0.99)"
   ]
  },
  {
   "cell_type": "markdown",
   "metadata": {},
   "source": [
    "Pada data paired T-test Q3 dan Q2 dapat disimpulkan bahwa rata-rata pada kedua sampel adalah -0.308, dari rata-rata perbedaan kedua sampel besar dari 499 sampel ukuran(df) yang menghasilkan nilai t =-6.0786 yang secara statistic nilai p = 2.411e-09\n",
    "\n"
   ]
  },
  {
   "cell_type": "code",
   "execution_count": 54,
   "metadata": {},
   "outputs": [
    {
     "data": {
      "text/plain": [
       "\n",
       "\tPaired t-test\n",
       "\n",
       "data:  Q3 and Q4\n",
       "t = -25.187, df = 499, p-value < 2.2e-16\n",
       "alternative hypothesis: true difference in means is not equal to 0\n",
       "99 percent confidence interval:\n",
       " -1.444487 -1.175513\n",
       "sample estimates:\n",
       "mean of the differences \n",
       "                  -1.31 \n"
      ]
     },
     "metadata": {},
     "output_type": "display_data"
    }
   ],
   "source": [
    "t.test(Q3, Q4, mu=0, alt=\"two.sided\", paired=T, conf.level=0.99)"
   ]
  },
  {
   "cell_type": "markdown",
   "metadata": {},
   "source": [
    "Pada data paired T-test Q3 dan Q4 dapat disimpulkan bahwa rata-rata pada kedua sampel adalah -1.31, dari rata-rata perbedaan kedua sampel besar dari 499 sampel ukuran(df) yang menghasilkan nilai t =-25.187 yang secara statistic nilai p < 2.2e-16\n",
    "\n"
   ]
  },
  {
   "cell_type": "code",
   "execution_count": 55,
   "metadata": {},
   "outputs": [
    {
     "data": {
      "text/plain": [
       "\n",
       "\tPaired t-test\n",
       "\n",
       "data:  Q3 and Q5\n",
       "t = -2.4837, df = 499, p-value = 0.01333\n",
       "alternative hypothesis: true difference in means is not equal to 0\n",
       "99 percent confidence interval:\n",
       " -0.310242596  0.006242596\n",
       "sample estimates:\n",
       "mean of the differences \n",
       "                 -0.152 \n"
      ]
     },
     "metadata": {},
     "output_type": "display_data"
    }
   ],
   "source": [
    "t.test(Q3, Q5, mu=0, alt=\"two.sided\", paired=T, conf.level=0.99)"
   ]
  },
  {
   "cell_type": "markdown",
   "metadata": {},
   "source": [
    "Pada data paired T-test Q3 dan Q5 dapat disimpulkan bahwa rata-rata pada kedua sampel adalah -0.152, dari rata-rata perbedaan kedua sampel besar dari 499 sampel ukuran(df) yang menghasilkan nilai t =-2.4837 yang secara statistic nilai p = 0.01333\n",
    "\n"
   ]
  },
  {
   "cell_type": "code",
   "execution_count": 56,
   "metadata": {},
   "outputs": [
    {
     "data": {
      "text/plain": [
       "\n",
       "\tPaired t-test\n",
       "\n",
       "data:  Q3 and Q6\n",
       "t = -16.675, df = 499, p-value < 2.2e-16\n",
       "alternative hypothesis: true difference in means is not equal to 0\n",
       "99 percent confidence interval:\n",
       " -1.1319669 -0.8280331\n",
       "sample estimates:\n",
       "mean of the differences \n",
       "                  -0.98 \n"
      ]
     },
     "metadata": {},
     "output_type": "display_data"
    }
   ],
   "source": [
    "t.test(Q3, Q6, mu=0, alt=\"two.sided\", paired=T, conf.level=0.99)"
   ]
  },
  {
   "cell_type": "markdown",
   "metadata": {},
   "source": [
    "Pada data paired T-test Q3 dan Q6 dapat disimpulkan bahwa rata-rata pada kedua sampel adalah -0.98, dari rata-rata perbedaan kedua sampel besar dari 499 sampel ukuran(df) yang menghasilkan nilai t =-16.675 yang secara statistic nilai p < 2.2e-16\n",
    "\n"
   ]
  },
  {
   "cell_type": "code",
   "execution_count": 57,
   "metadata": {},
   "outputs": [
    {
     "data": {
      "text/plain": [
       "\n",
       "\tPaired t-test\n",
       "\n",
       "data:  Q3 and Q7\n",
       "t = 15.584, df = 499, p-value < 2.2e-16\n",
       "alternative hypothesis: true difference in means is not equal to 0\n",
       "99 percent confidence interval:\n",
       " 0.8123883 1.1356117\n",
       "sample estimates:\n",
       "mean of the differences \n",
       "                  0.974 \n"
      ]
     },
     "metadata": {},
     "output_type": "display_data"
    }
   ],
   "source": [
    "t.test(Q3, Q7, mu=0, alt=\"two.sided\", paired=T, conf.level=0.99)"
   ]
  },
  {
   "cell_type": "markdown",
   "metadata": {},
   "source": [
    "Pada data paired T-test Q3 dan Q7 dapat disimpulkan bahwa rata-rata pada kedua sampel adalah 0.974, dari rata-rata perbedaan kedua sampel besar dari 499 sampel ukuran(df) yang menghasilkan nilai t =-15.584 yang secara statistic nilai p < 2.2e-16\n",
    "\n"
   ]
  },
  {
   "cell_type": "code",
   "execution_count": 58,
   "metadata": {},
   "outputs": [
    {
     "data": {
      "text/plain": [
       "\n",
       "\tPaired t-test\n",
       "\n",
       "data:  Q3 and Q8\n",
       "t = -9.0749, df = 499, p-value < 2.2e-16\n",
       "alternative hypothesis: true difference in means is not equal to 0\n",
       "99 percent confidence interval:\n",
       " -0.6784435 -0.3775565\n",
       "sample estimates:\n",
       "mean of the differences \n",
       "                 -0.528 \n"
      ]
     },
     "metadata": {},
     "output_type": "display_data"
    }
   ],
   "source": [
    "t.test(Q3, Q8, mu=0, alt=\"two.sided\", paired=T, conf.level=0.99)"
   ]
  },
  {
   "cell_type": "markdown",
   "metadata": {},
   "source": [
    "Pada data paired T-test Q3 dan Q8 dapat disimpulkan bahwa rata-rata pada kedua sampel adalah -0.528, dari rata-rata perbedaan kedua sampel besar dari 499 sampel ukuran(df) yang menghasilkan nilai t =-9.0749 yang secara statistic nilai p < 2.2e-16"
   ]
  },
  {
   "cell_type": "code",
   "execution_count": 59,
   "metadata": {},
   "outputs": [
    {
     "data": {
      "text/plain": [
       "\n",
       "\tPaired t-test\n",
       "\n",
       "data:  Q4 and Q1\n",
       "t = 4.8058, df = 499, p-value = 2.042e-06\n",
       "alternative hypothesis: true difference in means is not equal to 0\n",
       "99 percent confidence interval:\n",
       " 0.07576157 0.25223843\n",
       "sample estimates:\n",
       "mean of the differences \n",
       "                  0.164 \n"
      ]
     },
     "metadata": {},
     "output_type": "display_data"
    }
   ],
   "source": [
    "t.test(Q4, Q1, mu=0, alt=\"two.sided\", paired=T, conf.level=0.99)"
   ]
  },
  {
   "cell_type": "markdown",
   "metadata": {},
   "source": [
    "Pada data paired T-test Q4 dan Q1 dapat disimpulkan bahwa rata-rata pada kedua sampel adalah 0.164, dari rata-rata perbedaan kedua sampel besar dari 499 sampel ukuran(df) yang menghasilkan nilai t = 4.8058 yang secara statistic nilai p = 2.042e-06\n",
    "\n"
   ]
  },
  {
   "cell_type": "code",
   "execution_count": 60,
   "metadata": {},
   "outputs": [
    {
     "data": {
      "text/plain": [
       "\n",
       "\tPaired t-test\n",
       "\n",
       "data:  Q4 and Q2\n",
       "t = 20.382, df = 499, p-value < 2.2e-16\n",
       "alternative hypothesis: true difference in means is not equal to 0\n",
       "99 percent confidence interval:\n",
       " 0.874883 1.129117\n",
       "sample estimates:\n",
       "mean of the differences \n",
       "                  1.002 \n"
      ]
     },
     "metadata": {},
     "output_type": "display_data"
    }
   ],
   "source": [
    "t.test(Q4, Q2, mu=0, alt=\"two.sided\", paired=T, conf.level=0.99)"
   ]
  },
  {
   "cell_type": "markdown",
   "metadata": {},
   "source": [
    "Pada data paired T-test Q4 dan Q2 dapat disimpulkan bahwa rata-rata pada kedua sampel adalah 1.002, dari rata-rata perbedaan kedua sampel besar dari 499 sampel ukuran(df) yang menghasilkan nilai t = 20.382 yang secara statistic nilai p < 2.2e-16\n",
    "\n"
   ]
  },
  {
   "cell_type": "code",
   "execution_count": 61,
   "metadata": {},
   "outputs": [
    {
     "data": {
      "text/plain": [
       "\n",
       "\tPaired t-test\n",
       "\n",
       "data:  Q4 and Q3\n",
       "t = 25.187, df = 499, p-value < 2.2e-16\n",
       "alternative hypothesis: true difference in means is not equal to 0\n",
       "99 percent confidence interval:\n",
       " 1.175513 1.444487\n",
       "sample estimates:\n",
       "mean of the differences \n",
       "                   1.31 \n"
      ]
     },
     "metadata": {},
     "output_type": "display_data"
    }
   ],
   "source": [
    "t.test(Q4, Q3, mu=0, alt=\"two.sided\", paired=T, conf.level=0.99)"
   ]
  },
  {
   "cell_type": "markdown",
   "metadata": {},
   "source": [
    "Pada data paired T-test Q4 dan Q3 dapat disimpulkan bahwa rata-rata pada kedua sampel adalah 1.31, dari rata-rata perbedaan kedua sampel besar dari 499 sampel ukuran(df) yang menghasilkan nilai t = 25.187 yang secara statistic nilai p < 2.2e-16\n",
    "\n"
   ]
  },
  {
   "cell_type": "code",
   "execution_count": 62,
   "metadata": {},
   "outputs": [
    {
     "data": {
      "text/plain": [
       "\n",
       "\tPaired t-test\n",
       "\n",
       "data:  Q4 and Q5\n",
       "t = 24.216, df = 499, p-value < 2.2e-16\n",
       "alternative hypothesis: true difference in means is not equal to 0\n",
       "99 percent confidence interval:\n",
       " 1.034354 1.281646\n",
       "sample estimates:\n",
       "mean of the differences \n",
       "                  1.158 \n"
      ]
     },
     "metadata": {},
     "output_type": "display_data"
    }
   ],
   "source": [
    "t.test(Q4, Q5, mu=0, alt=\"two.sided\", paired=T, conf.level=0.99)"
   ]
  },
  {
   "cell_type": "markdown",
   "metadata": {},
   "source": [
    "Pada data paired T-test Q4 dan Q5 dapat disimpulkan bahwa rata-rata pada kedua sampel adalah 1.158, dari rata-rata perbedaan kedua sampel besar dari 499 sampel ukuran(df) yang menghasilkan nilai t = 24.216 yang secara statistic nilai p < 2.2e-16\n",
    "\n"
   ]
  },
  {
   "cell_type": "code",
   "execution_count": 63,
   "metadata": {},
   "outputs": [
    {
     "data": {
      "text/plain": [
       "\n",
       "\tPaired t-test\n",
       "\n",
       "data:  Q4 and Q6\n",
       "t = 8.563, df = 499, p-value < 2.2e-16\n",
       "alternative hypothesis: true difference in means is not equal to 0\n",
       "99 percent confidence interval:\n",
       " 0.2303519 0.4296481\n",
       "sample estimates:\n",
       "mean of the differences \n",
       "                   0.33 \n"
      ]
     },
     "metadata": {},
     "output_type": "display_data"
    }
   ],
   "source": [
    "t.test(Q4, Q6, mu=0, alt=\"two.sided\", paired=T, conf.level=0.99)"
   ]
  },
  {
   "cell_type": "markdown",
   "metadata": {},
   "source": [
    "Pada data paired T-test Q4 dan Q6 dapat disimpulkan bahwa rata-rata pada kedua sampel adalah 0.33, dari rata-rata perbedaan kedua sampel besar dari 499 sampel ukuran(df) yang menghasilkan nilai t = 8.563 yang secara statistic nilai p < 2.2e-16\n",
    "\n"
   ]
  },
  {
   "cell_type": "code",
   "execution_count": 64,
   "metadata": {},
   "outputs": [
    {
     "data": {
      "text/plain": [
       "\n",
       "\tPaired t-test\n",
       "\n",
       "data:  Q4 and Q7\n",
       "t = 47.222, df = 499, p-value < 2.2e-16\n",
       "alternative hypothesis: true difference in means is not equal to 0\n",
       "99 percent confidence interval:\n",
       " 2.158937 2.409063\n",
       "sample estimates:\n",
       "mean of the differences \n",
       "                  2.284 \n"
      ]
     },
     "metadata": {},
     "output_type": "display_data"
    }
   ],
   "source": [
    "t.test(Q4, Q7, mu=0, alt=\"two.sided\", paired=T, conf.level=0.99)"
   ]
  },
  {
   "cell_type": "markdown",
   "metadata": {},
   "source": [
    "Pada data paired T-test Q4 dan Q7 dapat disimpulkan bahwa rata-rata pada kedua sampel adalah 2.284, dari rata-rata perbedaan kedua sampel besar dari 499 sampel ukuran(df) yang menghasilkan nilai t = 47.222 yang secara statistic nilai p < 2.2e-16\n",
    "\n"
   ]
  },
  {
   "cell_type": "code",
   "execution_count": 65,
   "metadata": {},
   "outputs": [
    {
     "data": {
      "text/plain": [
       "\n",
       "\tPaired t-test\n",
       "\n",
       "data:  Q4 and Q8\n",
       "t = 18.388, df = 499, p-value < 2.2e-16\n",
       "alternative hypothesis: true difference in means is not equal to 0\n",
       "99 percent confidence interval:\n",
       " 0.6720365 0.8919635\n",
       "sample estimates:\n",
       "mean of the differences \n",
       "                  0.782 \n"
      ]
     },
     "metadata": {},
     "output_type": "display_data"
    }
   ],
   "source": [
    "t.test(Q4, Q8, mu=0, alt=\"two.sided\", paired=T, conf.level=0.99)"
   ]
  },
  {
   "cell_type": "markdown",
   "metadata": {},
   "source": [
    "Pada data paired T-test Q4 dan Q8 dapat disimpulkan bahwa rata-rata pada kedua sampel adalah 0.782, dari rata-rata perbedaan kedua sampel besar dari 499 sampel ukuran(df) yang menghasilkan nilai t = 18.388 yang secara statistic nilai p < 2.2e-16"
   ]
  },
  {
   "cell_type": "code",
   "execution_count": 66,
   "metadata": {},
   "outputs": [
    {
     "data": {
      "text/plain": [
       "\n",
       "\tPaired t-test\n",
       "\n",
       "data:  Q5 and Q1\n",
       "t = -21.191, df = 499, p-value < 2.2e-16\n",
       "alternative hypothesis: true difference in means is not equal to 0\n",
       "99 percent confidence interval:\n",
       " -1.11529 -0.87271\n",
       "sample estimates:\n",
       "mean of the differences \n",
       "                 -0.994 \n"
      ]
     },
     "metadata": {},
     "output_type": "display_data"
    }
   ],
   "source": [
    "t.test(Q5, Q1, mu=0, alt=\"two.sided\", paired=T, conf.level=0.99)"
   ]
  },
  {
   "cell_type": "markdown",
   "metadata": {},
   "source": [
    "Pada data paired T-test Q5 dan Q1 dapat disimpulkan bahwa rata-rata pada kedua sampel adalah -0.994 dari rata-rata perbedaan kedua sampel besar dari 499 sampel ukuran(df) yang menghasilkan nilai t = -21.191 yang secara statistic nilai p < 2.2e-16\n",
    "\n"
   ]
  },
  {
   "cell_type": "code",
   "execution_count": 67,
   "metadata": {},
   "outputs": [
    {
     "data": {
      "text/plain": [
       "\n",
       "\tPaired t-test\n",
       "\n",
       "data:  Q5 and Q2\n",
       "t = -2.7416, df = 499, p-value = 0.006334\n",
       "alternative hypothesis: true difference in means is not equal to 0\n",
       "99 percent confidence interval:\n",
       " -0.303131735 -0.008868265\n",
       "sample estimates:\n",
       "mean of the differences \n",
       "                 -0.156 \n"
      ]
     },
     "metadata": {},
     "output_type": "display_data"
    }
   ],
   "source": [
    "t.test(Q5, Q2, mu=0, alt=\"two.sided\", paired=T, conf.level=0.99)"
   ]
  },
  {
   "cell_type": "markdown",
   "metadata": {},
   "source": [
    "Pada data paired T-test Q5 dan Q2 dapat disimpulkan bahwa rata-rata pada kedua sampel adalah -0.156 dari rata-rata perbedaan kedua sampel besar dari 499 sampel ukuran(df) yang menghasilkan nilai t = -2.7416 yang secara statistic nilai p = 0.006334\n",
    "\n"
   ]
  },
  {
   "cell_type": "code",
   "execution_count": 68,
   "metadata": {},
   "outputs": [
    {
     "data": {
      "text/plain": [
       "\n",
       "\tPaired t-test\n",
       "\n",
       "data:  Q5 and Q3\n",
       "t = 2.4837, df = 499, p-value = 0.01333\n",
       "alternative hypothesis: true difference in means is not equal to 0\n",
       "99 percent confidence interval:\n",
       " -0.006242596  0.310242596\n",
       "sample estimates:\n",
       "mean of the differences \n",
       "                  0.152 \n"
      ]
     },
     "metadata": {},
     "output_type": "display_data"
    }
   ],
   "source": [
    "t.test(Q5, Q3, mu=0, alt=\"two.sided\", paired=T, conf.level=0.99)"
   ]
  },
  {
   "cell_type": "markdown",
   "metadata": {},
   "source": [
    "Pada data paired T-test Q5 dan Q3 dapat disimpulkan bahwa rata-rata pada kedua sampel adalah 0.152 dari rata-rata perbedaan kedua sampel besar dari 499 sampel ukuran(df) yang menghasilkan nilai t = 2.4837 yang secara statistic nilai p = 0.01333\n",
    "\n"
   ]
  },
  {
   "cell_type": "code",
   "execution_count": 69,
   "metadata": {},
   "outputs": [
    {
     "data": {
      "text/plain": [
       "\n",
       "\tPaired t-test\n",
       "\n",
       "data:  Q5 and Q4\n",
       "t = -24.216, df = 499, p-value < 2.2e-16\n",
       "alternative hypothesis: true difference in means is not equal to 0\n",
       "99 percent confidence interval:\n",
       " -1.281646 -1.034354\n",
       "sample estimates:\n",
       "mean of the differences \n",
       "                 -1.158 \n"
      ]
     },
     "metadata": {},
     "output_type": "display_data"
    }
   ],
   "source": [
    "t.test(Q5, Q4, mu=0, alt=\"two.sided\", paired=T, conf.level=0.99)"
   ]
  },
  {
   "cell_type": "markdown",
   "metadata": {},
   "source": [
    "Pada data paired T-test Q5 dan Q4 dapat disimpulkan bahwa rata-rata pada kedua sampel adalah -1.158 dari rata-rata perbedaan kedua sampel besar dari 499 sampel ukuran(df) yang menghasilkan nilai t = -24.216 yang secara statistic nilai p < 2.2e-16\n",
    "\n"
   ]
  },
  {
   "cell_type": "code",
   "execution_count": 70,
   "metadata": {},
   "outputs": [
    {
     "data": {
      "text/plain": [
       "\n",
       "\tPaired t-test\n",
       "\n",
       "data:  Q5 and Q6\n",
       "t = -16.108, df = 499, p-value < 2.2e-16\n",
       "alternative hypothesis: true difference in means is not equal to 0\n",
       "99 percent confidence interval:\n",
       " -0.9609098 -0.6950902\n",
       "sample estimates:\n",
       "mean of the differences \n",
       "                 -0.828 \n"
      ]
     },
     "metadata": {},
     "output_type": "display_data"
    }
   ],
   "source": [
    "t.test(Q5, Q6, mu=0, alt=\"two.sided\", paired=T, conf.level=0.99)"
   ]
  },
  {
   "cell_type": "markdown",
   "metadata": {},
   "source": [
    "Pada data paired T-test Q5 dan Q6 dapat disimpulkan bahwa rata-rata pada kedua sampel adalah -0.828 dari rata-rata perbedaan kedua sampel besar dari 499 sampel ukuran(df) yang menghasilkan nilai t = -16.108 yang secara statistic nilai p < 2.2e-16\n",
    "\n"
   ]
  },
  {
   "cell_type": "code",
   "execution_count": 71,
   "metadata": {},
   "outputs": [
    {
     "data": {
      "text/plain": [
       "\n",
       "\tPaired t-test\n",
       "\n",
       "data:  Q5 and Q7\n",
       "t = 19.725, df = 499, p-value < 2.2e-16\n",
       "alternative hypothesis: true difference in means is not equal to 0\n",
       "99 percent confidence interval:\n",
       " 0.9783928 1.2736072\n",
       "sample estimates:\n",
       "mean of the differences \n",
       "                  1.126 \n"
      ]
     },
     "metadata": {},
     "output_type": "display_data"
    }
   ],
   "source": [
    "t.test(Q5, Q7, mu=0, alt=\"two.sided\", paired=T, conf.level=0.99)"
   ]
  },
  {
   "cell_type": "markdown",
   "metadata": {},
   "source": [
    "Pada data paired T-test Q5 dan Q7 dapat disimpulkan bahwa rata-rata pada kedua sampel adalah 1.126 dari rata-rata perbedaan kedua sampel besar dari 499 sampel ukuran(df) yang menghasilkan nilai t = 19.725 yang secara statistic nilai p < 2.2e-16\n",
    "\n"
   ]
  },
  {
   "cell_type": "code",
   "execution_count": 72,
   "metadata": {},
   "outputs": [
    {
     "data": {
      "text/plain": [
       "\n",
       "\tPaired t-test\n",
       "\n",
       "data:  Q5 and Q8\n",
       "t = -6.8428, df = 499, p-value = 2.283e-11\n",
       "alternative hypothesis: true difference in means is not equal to 0\n",
       "99 percent confidence interval:\n",
       " -0.5180801 -0.2339199\n",
       "sample estimates:\n",
       "mean of the differences \n",
       "                 -0.376 \n"
      ]
     },
     "metadata": {},
     "output_type": "display_data"
    }
   ],
   "source": [
    "t.test(Q5, Q8, mu=0, alt=\"two.sided\", paired=T, conf.level=0.99)"
   ]
  },
  {
   "cell_type": "markdown",
   "metadata": {},
   "source": [
    "Pada data paired T-test Q5 dan Q8 dapat disimpulkan bahwa rata-rata pada kedua sampel adalah -0.376 dari rata-rata perbedaan kedua sampel besar dari 499 sampel ukuran(df) yang menghasilkan nilai t = -6.8428 yang secara statistic nilai p = 2.283e-11"
   ]
  },
  {
   "cell_type": "code",
   "execution_count": 73,
   "metadata": {},
   "outputs": [
    {
     "data": {
      "text/plain": [
       "\n",
       "\tPaired t-test\n",
       "\n",
       "data:  Q6 and Q1\n",
       "t = -4.2692, df = 499, p-value = 2.349e-05\n",
       "alternative hypothesis: true difference in means is not equal to 0\n",
       "99 percent confidence interval:\n",
       " -0.26654126 -0.06545874\n",
       "sample estimates:\n",
       "mean of the differences \n",
       "                 -0.166 \n"
      ]
     },
     "metadata": {},
     "output_type": "display_data"
    }
   ],
   "source": [
    "t.test(Q6, Q1, mu=0, alt=\"two.sided\", paired=T, conf.level=0.99)"
   ]
  },
  {
   "cell_type": "markdown",
   "metadata": {},
   "source": [
    "Pada data paired T-test Q6 dan Q1 dapat disimpulkan bahwa rata-rata pada kedua sampel adalah -0.166, dari rata-rata perbedaan kedua sampel besar dari 499 sampel ukuran(df) yang menghasilkan nilai t = -4.2692 yang secara statistic nilai p < 2.349e-05\n",
    "\n"
   ]
  },
  {
   "cell_type": "code",
   "execution_count": 74,
   "metadata": {},
   "outputs": [
    {
     "data": {
      "text/plain": [
       "\n",
       "\tPaired t-test\n",
       "\n",
       "data:  Q6 and Q2\n",
       "t = 12.908, df = 499, p-value < 2.2e-16\n",
       "alternative hypothesis: true difference in means is not equal to 0\n",
       "99 percent confidence interval:\n",
       " 0.5373873 0.8066127\n",
       "sample estimates:\n",
       "mean of the differences \n",
       "                  0.672 \n"
      ]
     },
     "metadata": {},
     "output_type": "display_data"
    }
   ],
   "source": [
    "t.test(Q6, Q2, mu=0, alt=\"two.sided\", paired=T, conf.level=0.99)"
   ]
  },
  {
   "cell_type": "markdown",
   "metadata": {},
   "source": [
    "Pada data paired T-test Q6 dan Q2 dapat disimpulkan bahwa rata-rata pada kedua sampel adalah 0.672, dari rata-rata perbedaan kedua sampel besar dari 499 sampel ukuran(df) yang menghasilkan nilai t = 12.908 yang secara statistic nilai p < 2.2e-16\n",
    "\n"
   ]
  },
  {
   "cell_type": "code",
   "execution_count": 75,
   "metadata": {},
   "outputs": [
    {
     "data": {
      "text/plain": [
       "\n",
       "\tPaired t-test\n",
       "\n",
       "data:  Q6 and Q3\n",
       "t = 16.675, df = 499, p-value < 2.2e-16\n",
       "alternative hypothesis: true difference in means is not equal to 0\n",
       "99 percent confidence interval:\n",
       " 0.8280331 1.1319669\n",
       "sample estimates:\n",
       "mean of the differences \n",
       "                   0.98 \n"
      ]
     },
     "metadata": {},
     "output_type": "display_data"
    }
   ],
   "source": [
    "t.test(Q6, Q3, mu=0, alt=\"two.sided\", paired=T, conf.level=0.99)"
   ]
  },
  {
   "cell_type": "markdown",
   "metadata": {},
   "source": [
    "Pada data paired T-test Q6 dan Q3 dapat disimpulkan bahwa rata-rata pada kedua sampel adalah 0.98, dari rata-rata perbedaan kedua sampel besar dari 499 sampel ukuran(df) yang menghasilkan nilai t = 16.675 yang secara statistic nilai p < 2.2e-16\n",
    "\n"
   ]
  },
  {
   "cell_type": "code",
   "execution_count": 76,
   "metadata": {},
   "outputs": [
    {
     "data": {
      "text/plain": [
       "\n",
       "\tPaired t-test\n",
       "\n",
       "data:  Q6 and Q4\n",
       "t = -8.563, df = 499, p-value < 2.2e-16\n",
       "alternative hypothesis: true difference in means is not equal to 0\n",
       "99 percent confidence interval:\n",
       " -0.4296481 -0.2303519\n",
       "sample estimates:\n",
       "mean of the differences \n",
       "                  -0.33 \n"
      ]
     },
     "metadata": {},
     "output_type": "display_data"
    }
   ],
   "source": [
    "t.test(Q6, Q4, mu=0, alt=\"two.sided\", paired=T, conf.level=0.99)"
   ]
  },
  {
   "cell_type": "markdown",
   "metadata": {},
   "source": [
    "Pada data paired T-test Q6 dan Q4 dapat disimpulkan bahwa rata-rata pada kedua sampel adalah 0.33, dari rata-rata perbedaan kedua sampel besar dari 499 sampel ukuran(df) yang menghasilkan nilai t = -8.563 yang secara statistic nilai p < 2.2e-16\n",
    "\n"
   ]
  },
  {
   "cell_type": "code",
   "execution_count": 77,
   "metadata": {},
   "outputs": [
    {
     "data": {
      "text/plain": [
       "\n",
       "\tPaired t-test\n",
       "\n",
       "data:  Q6 and Q5\n",
       "t = 16.108, df = 499, p-value < 2.2e-16\n",
       "alternative hypothesis: true difference in means is not equal to 0\n",
       "99 percent confidence interval:\n",
       " 0.6950902 0.9609098\n",
       "sample estimates:\n",
       "mean of the differences \n",
       "                  0.828 \n"
      ]
     },
     "metadata": {},
     "output_type": "display_data"
    }
   ],
   "source": [
    "t.test(Q6, Q5, mu=0, alt=\"two.sided\", paired=T, conf.level=0.99)"
   ]
  },
  {
   "cell_type": "markdown",
   "metadata": {},
   "source": [
    "Pada data paired T-test Q6 dan Q5 dapat disimpulkan bahwa rata-rata pada kedua sampel adalah 0.828, dari rata-rata perbedaan kedua sampel besar dari 499 sampel ukuran(df) yang menghasilkan nilai t = 16.108 yang secara statistic nilai p < 2.2e-16\n",
    "\n"
   ]
  },
  {
   "cell_type": "code",
   "execution_count": 78,
   "metadata": {},
   "outputs": [
    {
     "data": {
      "text/plain": [
       "\n",
       "\tPaired t-test\n",
       "\n",
       "data:  Q6 and Q7\n",
       "t = 34.338, df = 499, p-value < 2.2e-16\n",
       "alternative hypothesis: true difference in means is not equal to 0\n",
       "99 percent confidence interval:\n",
       " 1.806858 2.101142\n",
       "sample estimates:\n",
       "mean of the differences \n",
       "                  1.954 \n"
      ]
     },
     "metadata": {},
     "output_type": "display_data"
    }
   ],
   "source": [
    "t.test(Q6, Q7, mu=0, alt=\"two.sided\", paired=T, conf.level=0.99)"
   ]
  },
  {
   "cell_type": "markdown",
   "metadata": {},
   "source": [
    "Pada data paired T-test Q6 dan Q7 dapat disimpulkan bahwa rata-rata pada kedua sampel adalah 1.954, dari rata-rata perbedaan kedua sampel besar dari 499 sampel ukuran(df) yang menghasilkan nilai t = 34.338 yang secara statistic nilai p < 2.2e-16\n",
    "\n"
   ]
  },
  {
   "cell_type": "code",
   "execution_count": 79,
   "metadata": {},
   "outputs": [
    {
     "data": {
      "text/plain": [
       "\n",
       "\tPaired t-test\n",
       "\n",
       "data:  Q6 and Q8\n",
       "t = 9.8833, df = 499, p-value < 2.2e-16\n",
       "alternative hypothesis: true difference in means is not equal to 0\n",
       "99 percent confidence interval:\n",
       " 0.3337455 0.5702545\n",
       "sample estimates:\n",
       "mean of the differences \n",
       "                  0.452 \n"
      ]
     },
     "metadata": {},
     "output_type": "display_data"
    }
   ],
   "source": [
    "t.test(Q6, Q8, mu=0, alt=\"two.sided\", paired=T, conf.level=0.99)"
   ]
  },
  {
   "cell_type": "markdown",
   "metadata": {},
   "source": [
    "Pada data paired T-test Q6 dan Q8 dapat disimpulkan bahwa rata-rata pada kedua sampel adalah 0.462, dari rata-rata perbedaan kedua sampel besar dari 499 sampel ukuran(df) yang menghasilkan nilai t = 9.8833 yang secara statistic nilai p < 2.2e-16"
   ]
  },
  {
   "cell_type": "code",
   "execution_count": 80,
   "metadata": {},
   "outputs": [
    {
     "data": {
      "text/plain": [
       "\n",
       "\tPaired t-test\n",
       "\n",
       "data:  Q7 and Q1\n",
       "t = -44.716, df = 499, p-value < 2.2e-16\n",
       "alternative hypothesis: true difference in means is not equal to 0\n",
       "99 percent confidence interval:\n",
       " -2.242589 -1.997411\n",
       "sample estimates:\n",
       "mean of the differences \n",
       "                  -2.12 \n"
      ]
     },
     "metadata": {},
     "output_type": "display_data"
    }
   ],
   "source": [
    "t.test(Q7, Q1, mu=0, alt=\"two.sided\", paired=T, conf.level=0.99)"
   ]
  },
  {
   "cell_type": "markdown",
   "metadata": {},
   "source": [
    "Pada data paired T-test Q7 dan Q1 dapat disimpulkan bahwa rata-rata pada kedua sampel adalah -2.12 dari rata-rata perbedaan kedua sampel besar dari 499 sampel ukuran(df) yang menghasilkan nilai t = -44.716 yang secara statistic nilai p < 2.2e-16\n",
    "\n"
   ]
  },
  {
   "cell_type": "code",
   "execution_count": 81,
   "metadata": {},
   "outputs": [
    {
     "data": {
      "text/plain": [
       "\n",
       "\tPaired t-test\n",
       "\n",
       "data:  Q7 and Q2\n",
       "t = -22.026, df = 499, p-value < 2.2e-16\n",
       "alternative hypothesis: true difference in means is not equal to 0\n",
       "99 percent confidence interval:\n",
       " -1.4325 -1.1315\n",
       "sample estimates:\n",
       "mean of the differences \n",
       "                 -1.282 \n"
      ]
     },
     "metadata": {},
     "output_type": "display_data"
    }
   ],
   "source": [
    "t.test(Q7, Q2, mu=0, alt=\"two.sided\", paired=T, conf.level=0.99)"
   ]
  },
  {
   "cell_type": "markdown",
   "metadata": {},
   "source": [
    "Pada data paired T-test Q7 dan Q2 dapat disimpulkan bahwa rata-rata pada kedua sampel adalah -1.282 dari rata-rata perbedaan kedua sampel besar dari 499 sampel ukuran(df) yang menghasilkan nilai t = -22.026  yang secara statistic nilai p < 2.2e-16\n",
    "\n"
   ]
  },
  {
   "cell_type": "code",
   "execution_count": 82,
   "metadata": {},
   "outputs": [
    {
     "data": {
      "text/plain": [
       "\n",
       "\tPaired t-test\n",
       "\n",
       "data:  Q7 and Q3\n",
       "t = -15.584, df = 499, p-value < 2.2e-16\n",
       "alternative hypothesis: true difference in means is not equal to 0\n",
       "99 percent confidence interval:\n",
       " -1.1356117 -0.8123883\n",
       "sample estimates:\n",
       "mean of the differences \n",
       "                 -0.974 \n"
      ]
     },
     "metadata": {},
     "output_type": "display_data"
    }
   ],
   "source": [
    "t.test(Q7, Q3, mu=0, alt=\"two.sided\", paired=T, conf.level=0.99)"
   ]
  },
  {
   "cell_type": "markdown",
   "metadata": {},
   "source": [
    "Pada data paired T-test Q7 dan Q3 dapat disimpulkan bahwa rata-rata pada kedua sampel adalah -0.974 dari rata-rata perbedaan kedua sampel besar dari 499 sampel ukuran(df) yang menghasilkan nilai t = -15.584 yang secara statistic nilai p < 2.2e-16\n",
    "\n"
   ]
  },
  {
   "cell_type": "code",
   "execution_count": 83,
   "metadata": {},
   "outputs": [
    {
     "data": {
      "text/plain": [
       "\n",
       "\tPaired t-test\n",
       "\n",
       "data:  Q7 and Q4\n",
       "t = -47.222, df = 499, p-value < 2.2e-16\n",
       "alternative hypothesis: true difference in means is not equal to 0\n",
       "99 percent confidence interval:\n",
       " -2.409063 -2.158937\n",
       "sample estimates:\n",
       "mean of the differences \n",
       "                 -2.284 \n"
      ]
     },
     "metadata": {},
     "output_type": "display_data"
    }
   ],
   "source": [
    "t.test(Q7, Q4, mu=0, alt=\"two.sided\", paired=T, conf.level=0.99)"
   ]
  },
  {
   "cell_type": "markdown",
   "metadata": {},
   "source": [
    "Pada data paired T-test Q7 dan Q4 dapat disimpulkan bahwa rata-rata pada kedua sampel adalah -2.284 dari rata-rata perbedaan kedua sampel besar dari 499 sampel ukuran(df) yang menghasilkan nilai t = -47.222 yang secara statistic nilai p < 2.2e-16\n",
    "\n"
   ]
  },
  {
   "cell_type": "code",
   "execution_count": 84,
   "metadata": {},
   "outputs": [
    {
     "data": {
      "text/plain": [
       "\n",
       "\tPaired t-test\n",
       "\n",
       "data:  Q7 and Q5\n",
       "t = -19.725, df = 499, p-value < 2.2e-16\n",
       "alternative hypothesis: true difference in means is not equal to 0\n",
       "99 percent confidence interval:\n",
       " -1.2736072 -0.9783928\n",
       "sample estimates:\n",
       "mean of the differences \n",
       "                 -1.126 \n"
      ]
     },
     "metadata": {},
     "output_type": "display_data"
    }
   ],
   "source": [
    "t.test(Q7, Q5, mu=0, alt=\"two.sided\", paired=T, conf.level=0.99)"
   ]
  },
  {
   "cell_type": "markdown",
   "metadata": {},
   "source": [
    "Pada data paired T-test Q7 dan Q5 dapat disimpulkan bahwa rata-rata pada kedua sampel adalah -1.126 dari rata-rata perbedaan kedua sampel besar dari 499 sampel ukuran(df) yang menghasilkan nilai t = -19.725 yang secara statistic nilai p < 2.2e-16\n",
    "\n"
   ]
  },
  {
   "cell_type": "code",
   "execution_count": 85,
   "metadata": {},
   "outputs": [
    {
     "data": {
      "text/plain": [
       "\n",
       "\tPaired t-test\n",
       "\n",
       "data:  Q7 and Q6\n",
       "t = -34.338, df = 499, p-value < 2.2e-16\n",
       "alternative hypothesis: true difference in means is not equal to 0\n",
       "99 percent confidence interval:\n",
       " -2.101142 -1.806858\n",
       "sample estimates:\n",
       "mean of the differences \n",
       "                 -1.954 \n"
      ]
     },
     "metadata": {},
     "output_type": "display_data"
    }
   ],
   "source": [
    "t.test(Q7, Q6, mu=0, alt=\"two.sided\", paired=T, conf.level=0.99)"
   ]
  },
  {
   "cell_type": "markdown",
   "metadata": {},
   "source": [
    "Pada data paired T-test Q7 dan Q6 dapat disimpulkan bahwa rata-rata pada kedua sampel adalah -1.954 dari rata-rata perbedaan kedua sampel besar dari 499 sampel ukuran(df) yang menghasilkan nilai t = -34.338 yang secara statistic nilai p < 2.2e-16\n",
    "\n"
   ]
  },
  {
   "cell_type": "code",
   "execution_count": 86,
   "metadata": {},
   "outputs": [
    {
     "data": {
      "text/plain": [
       "\n",
       "\tPaired t-test\n",
       "\n",
       "data:  Q7 and Q8\n",
       "t = -28.75, df = 499, p-value < 2.2e-16\n",
       "alternative hypothesis: true difference in means is not equal to 0\n",
       "99 percent confidence interval:\n",
       " -1.637089 -1.366911\n",
       "sample estimates:\n",
       "mean of the differences \n",
       "                 -1.502 \n"
      ]
     },
     "metadata": {},
     "output_type": "display_data"
    }
   ],
   "source": [
    "t.test(Q7, Q8, mu=0, alt=\"two.sided\", paired=T, conf.level=0.99)"
   ]
  },
  {
   "cell_type": "markdown",
   "metadata": {},
   "source": [
    "Pada data paired T-test Q7 dan Q8 dapat disimpulkan bahwa rata-rata pada kedua sampel adalah -1.502 dari rata-rata perbedaan kedua sampel besar dari 499 sampel ukuran(df) yang menghasilkan nilai t = -28.75 yang secara statistic nilai p < 2.2e-16"
   ]
  },
  {
   "cell_type": "code",
   "execution_count": 87,
   "metadata": {},
   "outputs": [
    {
     "data": {
      "text/plain": [
       "\n",
       "\tPaired t-test\n",
       "\n",
       "data:  Q8 and Q1\n",
       "t = -15.793, df = 499, p-value < 2.2e-16\n",
       "alternative hypothesis: true difference in means is not equal to 0\n",
       "99 percent confidence interval:\n",
       " -0.719181 -0.516819\n",
       "sample estimates:\n",
       "mean of the differences \n",
       "                 -0.618 \n"
      ]
     },
     "metadata": {},
     "output_type": "display_data"
    }
   ],
   "source": [
    "t.test(Q8, Q1, mu=0, alt=\"two.sided\", paired=T, conf.level=0.99)"
   ]
  },
  {
   "cell_type": "markdown",
   "metadata": {},
   "source": [
    "Pada data paired T-test Q8 dan Q1 dapat disimpulkan bahwa rata-rata pada kedua sampel adalah -0.618, dari rata-rata perbedaan kedua sampel besar dari 499 sampel ukuran(df) yang menghasilkan nilai t = -15.793 yang secara statistic nilai p < 2.2e-16\n",
    "\n"
   ]
  },
  {
   "cell_type": "code",
   "execution_count": 88,
   "metadata": {},
   "outputs": [
    {
     "data": {
      "text/plain": [
       "\n",
       "\tPaired t-test\n",
       "\n",
       "data:  Q8 and Q2\n",
       "t = 4.0622, df = 499, p-value = 5.645e-05\n",
       "alternative hypothesis: true difference in means is not equal to 0\n",
       "99 percent confidence interval:\n",
       " 0.07996325 0.36003675\n",
       "sample estimates:\n",
       "mean of the differences \n",
       "                   0.22 \n"
      ]
     },
     "metadata": {},
     "output_type": "display_data"
    }
   ],
   "source": [
    "t.test(Q8, Q2, mu=0, alt=\"two.sided\", paired=T, conf.level=0.99)"
   ]
  },
  {
   "cell_type": "markdown",
   "metadata": {},
   "source": [
    "Pada data paired T-test Q8 dan Q2 dapat disimpulkan bahwa rata-rata pada kedua sampel adalah 0.22, dari rata-rata perbedaan kedua sampel besar dari 499 sampel ukuran(df) yang menghasilkan nilai t =4.0622 yang secara statistic nilai p < 5.645e-05\n",
    "\n"
   ]
  },
  {
   "cell_type": "code",
   "execution_count": 89,
   "metadata": {},
   "outputs": [
    {
     "data": {
      "text/plain": [
       "\n",
       "\tPaired t-test\n",
       "\n",
       "data:  Q8 and Q3\n",
       "t = 9.0749, df = 499, p-value < 2.2e-16\n",
       "alternative hypothesis: true difference in means is not equal to 0\n",
       "99 percent confidence interval:\n",
       " 0.3775565 0.6784435\n",
       "sample estimates:\n",
       "mean of the differences \n",
       "                  0.528 \n"
      ]
     },
     "metadata": {},
     "output_type": "display_data"
    }
   ],
   "source": [
    "t.test(Q8, Q3, mu=0, alt=\"two.sided\", paired=T, conf.level=0.99)"
   ]
  },
  {
   "cell_type": "markdown",
   "metadata": {},
   "source": [
    "Pada data paired T-test Q8 dan Q3 dapat disimpulkan bahwa rata-rata pada kedua sampel adalah 0.528, dari rata-rata perbedaan kedua sampel besar dari 499 sampel ukuran(df) yang menghasilkan nilai t =9.0749 yang secara statistic nilai p < 2.2e-16\n",
    "\n"
   ]
  },
  {
   "cell_type": "code",
   "execution_count": 90,
   "metadata": {},
   "outputs": [
    {
     "data": {
      "text/plain": [
       "\n",
       "\tPaired t-test\n",
       "\n",
       "data:  Q8 and Q4\n",
       "t = -18.388, df = 499, p-value < 2.2e-16\n",
       "alternative hypothesis: true difference in means is not equal to 0\n",
       "99 percent confidence interval:\n",
       " -0.8919635 -0.6720365\n",
       "sample estimates:\n",
       "mean of the differences \n",
       "                 -0.782 \n"
      ]
     },
     "metadata": {},
     "output_type": "display_data"
    }
   ],
   "source": [
    "t.test(Q8, Q4, mu=0, alt=\"two.sided\", paired=T, conf.level=0.99)"
   ]
  },
  {
   "cell_type": "markdown",
   "metadata": {},
   "source": [
    "Pada data paired T-test Q8 dan Q4 dapat disimpulkan bahwa rata-rata pada kedua sampel adalah -0.782, dari rata-rata perbedaan kedua sampel besar dari 499 sampel ukuran(df) yang menghasilkan nilai t =-18.388 yang secara statistic nilai p < 2.2e-16\n",
    "\n"
   ]
  },
  {
   "cell_type": "code",
   "execution_count": 91,
   "metadata": {},
   "outputs": [
    {
     "data": {
      "text/plain": [
       "\n",
       "\tPaired t-test\n",
       "\n",
       "data:  Q8 and Q5\n",
       "t = 6.8428, df = 499, p-value = 2.283e-11\n",
       "alternative hypothesis: true difference in means is not equal to 0\n",
       "99 percent confidence interval:\n",
       " 0.2339199 0.5180801\n",
       "sample estimates:\n",
       "mean of the differences \n",
       "                  0.376 \n"
      ]
     },
     "metadata": {},
     "output_type": "display_data"
    }
   ],
   "source": [
    "t.test(Q8, Q5, mu=0, alt=\"two.sided\", paired=T, conf.level=0.99)"
   ]
  },
  {
   "cell_type": "markdown",
   "metadata": {},
   "source": [
    "Pada data paired T-test Q8 dan Q5 dapat disimpulkan bahwa rata-rata pada kedua sampel adalah 0.376, dari rata-rata perbedaan kedua sampel besar dari 499 sampel ukuran(df) yang menghasilkan nilai t =6.8428 yang secara statistic nilai p < 2.283e-11\n",
    "\n"
   ]
  },
  {
   "cell_type": "code",
   "execution_count": 92,
   "metadata": {},
   "outputs": [
    {
     "data": {
      "text/plain": [
       "\n",
       "\tPaired t-test\n",
       "\n",
       "data:  Q8 and Q6\n",
       "t = -9.8833, df = 499, p-value < 2.2e-16\n",
       "alternative hypothesis: true difference in means is not equal to 0\n",
       "99 percent confidence interval:\n",
       " -0.5702545 -0.3337455\n",
       "sample estimates:\n",
       "mean of the differences \n",
       "                 -0.452 \n"
      ]
     },
     "metadata": {},
     "output_type": "display_data"
    }
   ],
   "source": [
    "t.test(Q8, Q6, mu=0, alt=\"two.sided\", paired=T, conf.level=0.99)"
   ]
  },
  {
   "cell_type": "markdown",
   "metadata": {},
   "source": [
    "Pada data paired T-test Q8 dan Q6 dapat disimpulkan bahwa rata-rata pada kedua sampel adalah -0.452, dari rata-rata perbedaan kedua sampel besar dari 499 sampel ukuran(df) yang menghasilkan nilai t =-9.8833 yang secara statistic nilai p < 2.2e-16\n",
    "\n"
   ]
  },
  {
   "cell_type": "code",
   "execution_count": 93,
   "metadata": {},
   "outputs": [
    {
     "data": {
      "text/plain": [
       "\n",
       "\tPaired t-test\n",
       "\n",
       "data:  Q8 and Q7\n",
       "t = 28.75, df = 499, p-value < 2.2e-16\n",
       "alternative hypothesis: true difference in means is not equal to 0\n",
       "99 percent confidence interval:\n",
       " 1.366911 1.637089\n",
       "sample estimates:\n",
       "mean of the differences \n",
       "                  1.502 \n"
      ]
     },
     "metadata": {},
     "output_type": "display_data"
    }
   ],
   "source": [
    "t.test(Q8, Q7, mu=0, alt=\"two.sided\", paired=T, conf.level=0.99)"
   ]
  },
  {
   "cell_type": "markdown",
   "metadata": {},
   "source": [
    "Pada data paired T-test Q8 dan Q7 dapat disimpulkan bahwa rata-rata pada kedua sampel adalah 1.502, dari rata-rata perbedaan kedua sampel besar dari 499 sampel ukuran(df) yang menghasilkan nilai t =28.75 yang secara statistic nilai p < 2.2e-16"
   ]
  },
  {
   "cell_type": "markdown",
   "metadata": {},
   "source": [
    "# PRINCIPAL COMPONENT ANALYSIS"
   ]
  },
  {
   "cell_type": "code",
   "execution_count": 28,
   "metadata": {},
   "outputs": [],
   "source": [
    "mydata<-read.csv('DataRE.csv')"
   ]
  },
  {
   "cell_type": "markdown",
   "metadata": {},
   "source": [
    "# Menampilkan seluruh data"
   ]
  },
  {
   "cell_type": "code",
   "execution_count": 29,
   "metadata": {},
   "outputs": [
    {
     "data": {
      "text/html": [
       "<table>\n",
       "<thead><tr><th scope=col>Q1</th><th scope=col>Q2</th><th scope=col>Q3</th><th scope=col>Q4</th><th scope=col>Q5</th><th scope=col>Q6</th><th scope=col>Q7</th><th scope=col>Q8</th></tr></thead>\n",
       "<tbody>\n",
       "\t<tr><td>5</td><td>4</td><td>2</td><td>5</td><td>2</td><td>5</td><td>1</td><td>5</td></tr>\n",
       "\t<tr><td>5</td><td>4</td><td>2</td><td>4</td><td>3</td><td>2</td><td>2</td><td>5</td></tr>\n",
       "\t<tr><td>5</td><td>4</td><td>4</td><td>5</td><td>3</td><td>4</td><td>3</td><td>4</td></tr>\n",
       "\t<tr><td>5</td><td>4</td><td>5</td><td>5</td><td>2</td><td>4</td><td>3</td><td>4</td></tr>\n",
       "\t<tr><td>5</td><td>4</td><td>4</td><td>4</td><td>2</td><td>4</td><td>3</td><td>5</td></tr>\n",
       "\t<tr><td>4</td><td>2</td><td>2</td><td>4</td><td>4</td><td>4</td><td>2</td><td>4</td></tr>\n",
       "\t<tr><td>4</td><td>3</td><td>2</td><td>5</td><td>4</td><td>3</td><td>4</td><td>4</td></tr>\n",
       "\t<tr><td>4</td><td>4</td><td>2</td><td>4</td><td>3</td><td>5</td><td>2</td><td>3</td></tr>\n",
       "\t<tr><td>4</td><td>4</td><td>2</td><td>5</td><td>3</td><td>4</td><td>2</td><td>4</td></tr>\n",
       "\t<tr><td>5</td><td>4</td><td>2</td><td>5</td><td>3</td><td>4</td><td>4</td><td>5</td></tr>\n",
       "\t<tr><td>5</td><td>4</td><td>2</td><td>4</td><td>4</td><td>5</td><td>2</td><td>3</td></tr>\n",
       "\t<tr><td>5</td><td>4</td><td>4</td><td>5</td><td>2</td><td>4</td><td>3</td><td>4</td></tr>\n",
       "\t<tr><td>3</td><td>4</td><td>3</td><td>4</td><td>2</td><td>5</td><td>1</td><td>5</td></tr>\n",
       "\t<tr><td>5</td><td>5</td><td>5</td><td>5</td><td>5</td><td>4</td><td>2</td><td>3</td></tr>\n",
       "\t<tr><td>5</td><td>4</td><td>3</td><td>5</td><td>3</td><td>4</td><td>2</td><td>3</td></tr>\n",
       "\t<tr><td>4</td><td>4</td><td>3</td><td>4</td><td>3</td><td>4</td><td>2</td><td>3</td></tr>\n",
       "\t<tr><td>5</td><td>2</td><td>3</td><td>5</td><td>3</td><td>4</td><td>2</td><td>3</td></tr>\n",
       "\t<tr><td>5</td><td>4</td><td>2</td><td>4</td><td>3</td><td>4</td><td>2</td><td>5</td></tr>\n",
       "\t<tr><td>4</td><td>2</td><td>2</td><td>5</td><td>2</td><td>4</td><td>2</td><td>4</td></tr>\n",
       "\t<tr><td>4</td><td>4</td><td>2</td><td>5</td><td>4</td><td>4</td><td>1</td><td>4</td></tr>\n",
       "\t<tr><td>4</td><td>4</td><td>4</td><td>5</td><td>2</td><td>5</td><td>2</td><td>3</td></tr>\n",
       "\t<tr><td>4</td><td>2</td><td>2</td><td>4</td><td>2</td><td>5</td><td>2</td><td>4</td></tr>\n",
       "\t<tr><td>4</td><td>4</td><td>4</td><td>4</td><td>5</td><td>4</td><td>2</td><td>3</td></tr>\n",
       "\t<tr><td>4</td><td>4</td><td>2</td><td>5</td><td>4</td><td>5</td><td>2</td><td>3</td></tr>\n",
       "\t<tr><td>4</td><td>4</td><td>2</td><td>5</td><td>3</td><td>4</td><td>2</td><td>4</td></tr>\n",
       "\t<tr><td>4</td><td>4</td><td>3</td><td>5</td><td>3</td><td>4</td><td>2</td><td>4</td></tr>\n",
       "\t<tr><td>4</td><td>4</td><td>4</td><td>5</td><td>2</td><td>4</td><td>2</td><td>4</td></tr>\n",
       "\t<tr><td>5</td><td>4</td><td>4</td><td>3</td><td>3</td><td>5</td><td>3</td><td>3</td></tr>\n",
       "\t<tr><td>4</td><td>4</td><td>4</td><td>5</td><td>4</td><td>5</td><td>3</td><td>4</td></tr>\n",
       "\t<tr><td>5</td><td>5</td><td>4</td><td>4</td><td>4</td><td>5</td><td>2</td><td>3</td></tr>\n",
       "\t<tr><td>...</td><td>...</td><td>...</td><td>...</td><td>...</td><td>...</td><td>...</td><td>...</td></tr>\n",
       "\t<tr><td>4</td><td>4</td><td>4</td><td>5</td><td>3</td><td>4</td><td>3</td><td>4</td></tr>\n",
       "\t<tr><td>5</td><td>3</td><td>3</td><td>4</td><td>3</td><td>5</td><td>1</td><td>4</td></tr>\n",
       "\t<tr><td>4</td><td>4</td><td>3</td><td>5</td><td>3</td><td>3</td><td>2</td><td>3</td></tr>\n",
       "\t<tr><td>5</td><td>4</td><td>5</td><td>5</td><td>5</td><td>5</td><td>2</td><td>4</td></tr>\n",
       "\t<tr><td>4</td><td>4</td><td>4</td><td>5</td><td>3</td><td>5</td><td>2</td><td>3</td></tr>\n",
       "\t<tr><td>4</td><td>4</td><td>4</td><td>5</td><td>3</td><td>4</td><td>2</td><td>4</td></tr>\n",
       "\t<tr><td>4</td><td>4</td><td>3</td><td>5</td><td>4</td><td>3</td><td>2</td><td>4</td></tr>\n",
       "\t<tr><td>4</td><td>4</td><td>4</td><td>4</td><td>3</td><td>5</td><td>2</td><td>3</td></tr>\n",
       "\t<tr><td>5</td><td>5</td><td>2</td><td>4</td><td>3</td><td>4</td><td>2</td><td>4</td></tr>\n",
       "\t<tr><td>4</td><td>5</td><td>3</td><td>5</td><td>3</td><td>3</td><td>1</td><td>3</td></tr>\n",
       "\t<tr><td>5</td><td>2</td><td>2</td><td>4</td><td>4</td><td>4</td><td>2</td><td>4</td></tr>\n",
       "\t<tr><td>5</td><td>4</td><td>4</td><td>5</td><td>5</td><td>5</td><td>1</td><td>4</td></tr>\n",
       "\t<tr><td>4</td><td>4</td><td>4</td><td>4</td><td>4</td><td>4</td><td>2</td><td>3</td></tr>\n",
       "\t<tr><td>5</td><td>4</td><td>4</td><td>4</td><td>4</td><td>4</td><td>2</td><td>5</td></tr>\n",
       "\t<tr><td>4</td><td>4</td><td>2</td><td>5</td><td>3</td><td>4</td><td>3</td><td>4</td></tr>\n",
       "\t<tr><td>4</td><td>2</td><td>2</td><td>4</td><td>3</td><td>3</td><td>4</td><td>5</td></tr>\n",
       "\t<tr><td>4</td><td>4</td><td>3</td><td>5</td><td>5</td><td>5</td><td>3</td><td>3</td></tr>\n",
       "\t<tr><td>4</td><td>2</td><td>3</td><td>5</td><td>4</td><td>5</td><td>2</td><td>4</td></tr>\n",
       "\t<tr><td>4</td><td>2</td><td>4</td><td>5</td><td>2</td><td>5</td><td>2</td><td>5</td></tr>\n",
       "\t<tr><td>4</td><td>4</td><td>3</td><td>4</td><td>2</td><td>4</td><td>2</td><td>4</td></tr>\n",
       "\t<tr><td>5</td><td>4</td><td>2</td><td>4</td><td>4</td><td>4</td><td>2</td><td>4</td></tr>\n",
       "\t<tr><td>5</td><td>4</td><td>4</td><td>5</td><td>2</td><td>5</td><td>2</td><td>3</td></tr>\n",
       "\t<tr><td>4</td><td>4</td><td>2</td><td>5</td><td>4</td><td>5</td><td>1</td><td>4</td></tr>\n",
       "\t<tr><td>4</td><td>4</td><td>4</td><td>5</td><td>5</td><td>5</td><td>4</td><td>3</td></tr>\n",
       "\t<tr><td>4</td><td>2</td><td>2</td><td>5</td><td>3</td><td>4</td><td>2</td><td>4</td></tr>\n",
       "\t<tr><td>4</td><td>3</td><td>3</td><td>5</td><td>5</td><td>4</td><td>2</td><td>2</td></tr>\n",
       "\t<tr><td>5</td><td>5</td><td>5</td><td>5</td><td>5</td><td>5</td><td>1</td><td>5</td></tr>\n",
       "\t<tr><td>5</td><td>5</td><td>5</td><td>5</td><td>2</td><td>5</td><td>2</td><td>5</td></tr>\n",
       "\t<tr><td>4</td><td>2</td><td>2</td><td>4</td><td>2</td><td>4</td><td>2</td><td>4</td></tr>\n",
       "\t<tr><td>4</td><td>2</td><td>2</td><td>3</td><td>3</td><td>3</td><td>3</td><td>3</td></tr>\n",
       "</tbody>\n",
       "</table>\n"
      ],
      "text/latex": [
       "\\begin{tabular}{r|llllllll}\n",
       " Q1 & Q2 & Q3 & Q4 & Q5 & Q6 & Q7 & Q8\\\\\n",
       "\\hline\n",
       "\t 5 & 4 & 2 & 5 & 2 & 5 & 1 & 5\\\\\n",
       "\t 5 & 4 & 2 & 4 & 3 & 2 & 2 & 5\\\\\n",
       "\t 5 & 4 & 4 & 5 & 3 & 4 & 3 & 4\\\\\n",
       "\t 5 & 4 & 5 & 5 & 2 & 4 & 3 & 4\\\\\n",
       "\t 5 & 4 & 4 & 4 & 2 & 4 & 3 & 5\\\\\n",
       "\t 4 & 2 & 2 & 4 & 4 & 4 & 2 & 4\\\\\n",
       "\t 4 & 3 & 2 & 5 & 4 & 3 & 4 & 4\\\\\n",
       "\t 4 & 4 & 2 & 4 & 3 & 5 & 2 & 3\\\\\n",
       "\t 4 & 4 & 2 & 5 & 3 & 4 & 2 & 4\\\\\n",
       "\t 5 & 4 & 2 & 5 & 3 & 4 & 4 & 5\\\\\n",
       "\t 5 & 4 & 2 & 4 & 4 & 5 & 2 & 3\\\\\n",
       "\t 5 & 4 & 4 & 5 & 2 & 4 & 3 & 4\\\\\n",
       "\t 3 & 4 & 3 & 4 & 2 & 5 & 1 & 5\\\\\n",
       "\t 5 & 5 & 5 & 5 & 5 & 4 & 2 & 3\\\\\n",
       "\t 5 & 4 & 3 & 5 & 3 & 4 & 2 & 3\\\\\n",
       "\t 4 & 4 & 3 & 4 & 3 & 4 & 2 & 3\\\\\n",
       "\t 5 & 2 & 3 & 5 & 3 & 4 & 2 & 3\\\\\n",
       "\t 5 & 4 & 2 & 4 & 3 & 4 & 2 & 5\\\\\n",
       "\t 4 & 2 & 2 & 5 & 2 & 4 & 2 & 4\\\\\n",
       "\t 4 & 4 & 2 & 5 & 4 & 4 & 1 & 4\\\\\n",
       "\t 4 & 4 & 4 & 5 & 2 & 5 & 2 & 3\\\\\n",
       "\t 4 & 2 & 2 & 4 & 2 & 5 & 2 & 4\\\\\n",
       "\t 4 & 4 & 4 & 4 & 5 & 4 & 2 & 3\\\\\n",
       "\t 4 & 4 & 2 & 5 & 4 & 5 & 2 & 3\\\\\n",
       "\t 4 & 4 & 2 & 5 & 3 & 4 & 2 & 4\\\\\n",
       "\t 4 & 4 & 3 & 5 & 3 & 4 & 2 & 4\\\\\n",
       "\t 4 & 4 & 4 & 5 & 2 & 4 & 2 & 4\\\\\n",
       "\t 5 & 4 & 4 & 3 & 3 & 5 & 3 & 3\\\\\n",
       "\t 4 & 4 & 4 & 5 & 4 & 5 & 3 & 4\\\\\n",
       "\t 5 & 5 & 4 & 4 & 4 & 5 & 2 & 3\\\\\n",
       "\t ... & ... & ... & ... & ... & ... & ... & ...\\\\\n",
       "\t 4 & 4 & 4 & 5 & 3 & 4 & 3 & 4\\\\\n",
       "\t 5 & 3 & 3 & 4 & 3 & 5 & 1 & 4\\\\\n",
       "\t 4 & 4 & 3 & 5 & 3 & 3 & 2 & 3\\\\\n",
       "\t 5 & 4 & 5 & 5 & 5 & 5 & 2 & 4\\\\\n",
       "\t 4 & 4 & 4 & 5 & 3 & 5 & 2 & 3\\\\\n",
       "\t 4 & 4 & 4 & 5 & 3 & 4 & 2 & 4\\\\\n",
       "\t 4 & 4 & 3 & 5 & 4 & 3 & 2 & 4\\\\\n",
       "\t 4 & 4 & 4 & 4 & 3 & 5 & 2 & 3\\\\\n",
       "\t 5 & 5 & 2 & 4 & 3 & 4 & 2 & 4\\\\\n",
       "\t 4 & 5 & 3 & 5 & 3 & 3 & 1 & 3\\\\\n",
       "\t 5 & 2 & 2 & 4 & 4 & 4 & 2 & 4\\\\\n",
       "\t 5 & 4 & 4 & 5 & 5 & 5 & 1 & 4\\\\\n",
       "\t 4 & 4 & 4 & 4 & 4 & 4 & 2 & 3\\\\\n",
       "\t 5 & 4 & 4 & 4 & 4 & 4 & 2 & 5\\\\\n",
       "\t 4 & 4 & 2 & 5 & 3 & 4 & 3 & 4\\\\\n",
       "\t 4 & 2 & 2 & 4 & 3 & 3 & 4 & 5\\\\\n",
       "\t 4 & 4 & 3 & 5 & 5 & 5 & 3 & 3\\\\\n",
       "\t 4 & 2 & 3 & 5 & 4 & 5 & 2 & 4\\\\\n",
       "\t 4 & 2 & 4 & 5 & 2 & 5 & 2 & 5\\\\\n",
       "\t 4 & 4 & 3 & 4 & 2 & 4 & 2 & 4\\\\\n",
       "\t 5 & 4 & 2 & 4 & 4 & 4 & 2 & 4\\\\\n",
       "\t 5 & 4 & 4 & 5 & 2 & 5 & 2 & 3\\\\\n",
       "\t 4 & 4 & 2 & 5 & 4 & 5 & 1 & 4\\\\\n",
       "\t 4 & 4 & 4 & 5 & 5 & 5 & 4 & 3\\\\\n",
       "\t 4 & 2 & 2 & 5 & 3 & 4 & 2 & 4\\\\\n",
       "\t 4 & 3 & 3 & 5 & 5 & 4 & 2 & 2\\\\\n",
       "\t 5 & 5 & 5 & 5 & 5 & 5 & 1 & 5\\\\\n",
       "\t 5 & 5 & 5 & 5 & 2 & 5 & 2 & 5\\\\\n",
       "\t 4 & 2 & 2 & 4 & 2 & 4 & 2 & 4\\\\\n",
       "\t 4 & 2 & 2 & 3 & 3 & 3 & 3 & 3\\\\\n",
       "\\end{tabular}\n"
      ],
      "text/markdown": [
       "\n",
       "| Q1 | Q2 | Q3 | Q4 | Q5 | Q6 | Q7 | Q8 |\n",
       "|---|---|---|---|---|---|---|---|\n",
       "| 5 | 4 | 2 | 5 | 2 | 5 | 1 | 5 |\n",
       "| 5 | 4 | 2 | 4 | 3 | 2 | 2 | 5 |\n",
       "| 5 | 4 | 4 | 5 | 3 | 4 | 3 | 4 |\n",
       "| 5 | 4 | 5 | 5 | 2 | 4 | 3 | 4 |\n",
       "| 5 | 4 | 4 | 4 | 2 | 4 | 3 | 5 |\n",
       "| 4 | 2 | 2 | 4 | 4 | 4 | 2 | 4 |\n",
       "| 4 | 3 | 2 | 5 | 4 | 3 | 4 | 4 |\n",
       "| 4 | 4 | 2 | 4 | 3 | 5 | 2 | 3 |\n",
       "| 4 | 4 | 2 | 5 | 3 | 4 | 2 | 4 |\n",
       "| 5 | 4 | 2 | 5 | 3 | 4 | 4 | 5 |\n",
       "| 5 | 4 | 2 | 4 | 4 | 5 | 2 | 3 |\n",
       "| 5 | 4 | 4 | 5 | 2 | 4 | 3 | 4 |\n",
       "| 3 | 4 | 3 | 4 | 2 | 5 | 1 | 5 |\n",
       "| 5 | 5 | 5 | 5 | 5 | 4 | 2 | 3 |\n",
       "| 5 | 4 | 3 | 5 | 3 | 4 | 2 | 3 |\n",
       "| 4 | 4 | 3 | 4 | 3 | 4 | 2 | 3 |\n",
       "| 5 | 2 | 3 | 5 | 3 | 4 | 2 | 3 |\n",
       "| 5 | 4 | 2 | 4 | 3 | 4 | 2 | 5 |\n",
       "| 4 | 2 | 2 | 5 | 2 | 4 | 2 | 4 |\n",
       "| 4 | 4 | 2 | 5 | 4 | 4 | 1 | 4 |\n",
       "| 4 | 4 | 4 | 5 | 2 | 5 | 2 | 3 |\n",
       "| 4 | 2 | 2 | 4 | 2 | 5 | 2 | 4 |\n",
       "| 4 | 4 | 4 | 4 | 5 | 4 | 2 | 3 |\n",
       "| 4 | 4 | 2 | 5 | 4 | 5 | 2 | 3 |\n",
       "| 4 | 4 | 2 | 5 | 3 | 4 | 2 | 4 |\n",
       "| 4 | 4 | 3 | 5 | 3 | 4 | 2 | 4 |\n",
       "| 4 | 4 | 4 | 5 | 2 | 4 | 2 | 4 |\n",
       "| 5 | 4 | 4 | 3 | 3 | 5 | 3 | 3 |\n",
       "| 4 | 4 | 4 | 5 | 4 | 5 | 3 | 4 |\n",
       "| 5 | 5 | 4 | 4 | 4 | 5 | 2 | 3 |\n",
       "| ... | ... | ... | ... | ... | ... | ... | ... |\n",
       "| 4 | 4 | 4 | 5 | 3 | 4 | 3 | 4 |\n",
       "| 5 | 3 | 3 | 4 | 3 | 5 | 1 | 4 |\n",
       "| 4 | 4 | 3 | 5 | 3 | 3 | 2 | 3 |\n",
       "| 5 | 4 | 5 | 5 | 5 | 5 | 2 | 4 |\n",
       "| 4 | 4 | 4 | 5 | 3 | 5 | 2 | 3 |\n",
       "| 4 | 4 | 4 | 5 | 3 | 4 | 2 | 4 |\n",
       "| 4 | 4 | 3 | 5 | 4 | 3 | 2 | 4 |\n",
       "| 4 | 4 | 4 | 4 | 3 | 5 | 2 | 3 |\n",
       "| 5 | 5 | 2 | 4 | 3 | 4 | 2 | 4 |\n",
       "| 4 | 5 | 3 | 5 | 3 | 3 | 1 | 3 |\n",
       "| 5 | 2 | 2 | 4 | 4 | 4 | 2 | 4 |\n",
       "| 5 | 4 | 4 | 5 | 5 | 5 | 1 | 4 |\n",
       "| 4 | 4 | 4 | 4 | 4 | 4 | 2 | 3 |\n",
       "| 5 | 4 | 4 | 4 | 4 | 4 | 2 | 5 |\n",
       "| 4 | 4 | 2 | 5 | 3 | 4 | 3 | 4 |\n",
       "| 4 | 2 | 2 | 4 | 3 | 3 | 4 | 5 |\n",
       "| 4 | 4 | 3 | 5 | 5 | 5 | 3 | 3 |\n",
       "| 4 | 2 | 3 | 5 | 4 | 5 | 2 | 4 |\n",
       "| 4 | 2 | 4 | 5 | 2 | 5 | 2 | 5 |\n",
       "| 4 | 4 | 3 | 4 | 2 | 4 | 2 | 4 |\n",
       "| 5 | 4 | 2 | 4 | 4 | 4 | 2 | 4 |\n",
       "| 5 | 4 | 4 | 5 | 2 | 5 | 2 | 3 |\n",
       "| 4 | 4 | 2 | 5 | 4 | 5 | 1 | 4 |\n",
       "| 4 | 4 | 4 | 5 | 5 | 5 | 4 | 3 |\n",
       "| 4 | 2 | 2 | 5 | 3 | 4 | 2 | 4 |\n",
       "| 4 | 3 | 3 | 5 | 5 | 4 | 2 | 2 |\n",
       "| 5 | 5 | 5 | 5 | 5 | 5 | 1 | 5 |\n",
       "| 5 | 5 | 5 | 5 | 2 | 5 | 2 | 5 |\n",
       "| 4 | 2 | 2 | 4 | 2 | 4 | 2 | 4 |\n",
       "| 4 | 2 | 2 | 3 | 3 | 3 | 3 | 3 |\n",
       "\n"
      ],
      "text/plain": [
       "    Q1  Q2  Q3  Q4  Q5  Q6  Q7  Q8 \n",
       "1   5   4   2   5   2   5   1   5  \n",
       "2   5   4   2   4   3   2   2   5  \n",
       "3   5   4   4   5   3   4   3   4  \n",
       "4   5   4   5   5   2   4   3   4  \n",
       "5   5   4   4   4   2   4   3   5  \n",
       "6   4   2   2   4   4   4   2   4  \n",
       "7   4   3   2   5   4   3   4   4  \n",
       "8   4   4   2   4   3   5   2   3  \n",
       "9   4   4   2   5   3   4   2   4  \n",
       "10  5   4   2   5   3   4   4   5  \n",
       "11  5   4   2   4   4   5   2   3  \n",
       "12  5   4   4   5   2   4   3   4  \n",
       "13  3   4   3   4   2   5   1   5  \n",
       "14  5   5   5   5   5   4   2   3  \n",
       "15  5   4   3   5   3   4   2   3  \n",
       "16  4   4   3   4   3   4   2   3  \n",
       "17  5   2   3   5   3   4   2   3  \n",
       "18  5   4   2   4   3   4   2   5  \n",
       "19  4   2   2   5   2   4   2   4  \n",
       "20  4   4   2   5   4   4   1   4  \n",
       "21  4   4   4   5   2   5   2   3  \n",
       "22  4   2   2   4   2   5   2   4  \n",
       "23  4   4   4   4   5   4   2   3  \n",
       "24  4   4   2   5   4   5   2   3  \n",
       "25  4   4   2   5   3   4   2   4  \n",
       "26  4   4   3   5   3   4   2   4  \n",
       "27  4   4   4   5   2   4   2   4  \n",
       "28  5   4   4   3   3   5   3   3  \n",
       "29  4   4   4   5   4   5   3   4  \n",
       "30  5   5   4   4   4   5   2   3  \n",
       "... ... ... ... ... ... ... ... ...\n",
       "471 4   4   4   5   3   4   3   4  \n",
       "472 5   3   3   4   3   5   1   4  \n",
       "473 4   4   3   5   3   3   2   3  \n",
       "474 5   4   5   5   5   5   2   4  \n",
       "475 4   4   4   5   3   5   2   3  \n",
       "476 4   4   4   5   3   4   2   4  \n",
       "477 4   4   3   5   4   3   2   4  \n",
       "478 4   4   4   4   3   5   2   3  \n",
       "479 5   5   2   4   3   4   2   4  \n",
       "480 4   5   3   5   3   3   1   3  \n",
       "481 5   2   2   4   4   4   2   4  \n",
       "482 5   4   4   5   5   5   1   4  \n",
       "483 4   4   4   4   4   4   2   3  \n",
       "484 5   4   4   4   4   4   2   5  \n",
       "485 4   4   2   5   3   4   3   4  \n",
       "486 4   2   2   4   3   3   4   5  \n",
       "487 4   4   3   5   5   5   3   3  \n",
       "488 4   2   3   5   4   5   2   4  \n",
       "489 4   2   4   5   2   5   2   5  \n",
       "490 4   4   3   4   2   4   2   4  \n",
       "491 5   4   2   4   4   4   2   4  \n",
       "492 5   4   4   5   2   5   2   3  \n",
       "493 4   4   2   5   4   5   1   4  \n",
       "494 4   4   4   5   5   5   4   3  \n",
       "495 4   2   2   5   3   4   2   4  \n",
       "496 4   3   3   5   5   4   2   2  \n",
       "497 5   5   5   5   5   5   1   5  \n",
       "498 5   5   5   5   2   5   2   5  \n",
       "499 4   2   2   4   2   4   2   4  \n",
       "500 4   2   2   3   3   3   3   3  "
      ]
     },
     "metadata": {},
     "output_type": "display_data"
    }
   ],
   "source": [
    "mydata"
   ]
  },
  {
   "cell_type": "code",
   "execution_count": 30,
   "metadata": {},
   "outputs": [
    {
     "name": "stderr",
     "output_type": "stream",
     "text": [
      "The following objects are masked from mydata (pos = 3):\n",
      "\n",
      "    Q1, Q2, Q3, Q4, Q5, Q6, Q7, Q8\n",
      "\n",
      "The following objects are masked from mydata (pos = 4):\n",
      "\n",
      "    Q1, Q2, Q3, Q4, Q5, Q6, Q7, Q8\n",
      "\n",
      "The following objects are masked from mydata (pos = 5):\n",
      "\n",
      "    Q1, Q2, Q3, Q4, Q5, Q6, Q7, Q8\n",
      "\n",
      "The following objects are masked from mydata (pos = 6):\n",
      "\n",
      "    Q1, Q2, Q3, Q4, Q5, Q6, Q7, Q8\n",
      "\n",
      "The following objects are masked from mydata (pos = 7):\n",
      "\n",
      "    Q1, Q2, Q3, Q4, Q5, Q6, Q7, Q8\n",
      "\n"
     ]
    }
   ],
   "source": [
    "attach(mydata)"
   ]
  },
  {
   "cell_type": "code",
   "execution_count": 31,
   "metadata": {},
   "outputs": [],
   "source": [
    "# Define Variables\n",
    "x <- cbind(Q1,Q2,Q3,Q4,Q5,Q6,Q7,Q8)"
   ]
  },
  {
   "cell_type": "code",
   "execution_count": 32,
   "metadata": {},
   "outputs": [
    {
     "data": {
      "text/plain": [
       "       Q1              Q2              Q3             Q4             Q5       \n",
       " Min.   :3.000   Min.   :1.000   Min.   :1.00   Min.   :2.00   Min.   :1.000  \n",
       " 1st Qu.:4.000   1st Qu.:3.000   1st Qu.:2.00   1st Qu.:4.00   1st Qu.:3.000  \n",
       " Median :4.000   Median :4.000   Median :3.00   Median :5.00   Median :3.000  \n",
       " Mean   :4.396   Mean   :3.558   Mean   :3.25   Mean   :4.56   Mean   :3.402  \n",
       " 3rd Qu.:5.000   3rd Qu.:4.000   3rd Qu.:4.00   3rd Qu.:5.00   3rd Qu.:4.000  \n",
       " Max.   :5.000   Max.   :5.000   Max.   :5.00   Max.   :5.00   Max.   :5.000  \n",
       "       Q6             Q7              Q8       \n",
       " Min.   :1.00   Min.   :1.000   Min.   :1.000  \n",
       " 1st Qu.:4.00   1st Qu.:2.000   1st Qu.:3.000  \n",
       " Median :4.00   Median :2.000   Median :4.000  \n",
       " Mean   :4.23   Mean   :2.276   Mean   :3.778  \n",
       " 3rd Qu.:5.00   3rd Qu.:3.000   3rd Qu.:4.000  \n",
       " Max.   :5.00   Max.   :5.000   Max.   :5.000  "
      ]
     },
     "metadata": {},
     "output_type": "display_data"
    },
    {
     "data": {
      "text/html": [
       "<table>\n",
       "<thead><tr><th></th><th scope=col>Q1</th><th scope=col>Q2</th><th scope=col>Q3</th><th scope=col>Q4</th><th scope=col>Q5</th><th scope=col>Q6</th><th scope=col>Q7</th><th scope=col>Q8</th></tr></thead>\n",
       "<tbody>\n",
       "\t<tr><th scope=row>Q1</th><td> 1.00000000 </td><td> 0.29147287 </td><td> 0.249102452</td><td> 0.19970144 </td><td> 0.09439176 </td><td> 0.19110579 </td><td>-0.067785571</td><td>0.24630847  </td></tr>\n",
       "\t<tr><th scope=row>Q2</th><td> 0.29147287 </td><td> 1.00000000 </td><td> 0.401584391</td><td> 0.07969831 </td><td> 0.08981365 </td><td> 0.10056915 </td><td>-0.037063931</td><td>0.06945692  </td></tr>\n",
       "\t<tr><th scope=row>Q3</th><td> 0.24910245 </td><td> 0.40158439 </td><td> 1.000000000</td><td> 0.18581364 </td><td> 0.10292446 </td><td> 0.04786114 </td><td>-0.007483545</td><td>0.10433421  </td></tr>\n",
       "\t<tr><th scope=row>Q4</th><td> 0.19970144 </td><td> 0.07969831 </td><td> 0.185813637</td><td> 1.00000000 </td><td> 0.09791479 </td><td> 0.24855748 </td><td>-0.053875354</td><td>0.14633337  </td></tr>\n",
       "\t<tr><th scope=row>Q5</th><td> 0.09439176 </td><td> 0.08981365 </td><td> 0.102924462</td><td> 0.09791479 </td><td> 1.00000000 </td><td> 0.09464772 </td><td>-0.026561705</td><td>0.01223196  </td></tr>\n",
       "\t<tr><th scope=row>Q6</th><td> 0.19110579 </td><td> 0.10056915 </td><td> 0.047861139</td><td> 0.24855748 </td><td> 0.09464772 </td><td> 1.00000000 </td><td>-0.235691607</td><td>0.16519170  </td></tr>\n",
       "\t<tr><th scope=row>Q7</th><td>-0.06778557 </td><td>-0.03706393 </td><td>-0.007483545</td><td>-0.05387535 </td><td>-0.02656171 </td><td>-0.23569161 </td><td> 1.000000000</td><td>0.01344475  </td></tr>\n",
       "\t<tr><th scope=row>Q8</th><td> 0.24630847 </td><td> 0.06945692 </td><td> 0.104334206</td><td> 0.14633337 </td><td> 0.01223196 </td><td> 0.16519170 </td><td> 0.013444754</td><td>1.00000000  </td></tr>\n",
       "</tbody>\n",
       "</table>\n"
      ],
      "text/latex": [
       "\\begin{tabular}{r|llllllll}\n",
       "  & Q1 & Q2 & Q3 & Q4 & Q5 & Q6 & Q7 & Q8\\\\\n",
       "\\hline\n",
       "\tQ1 &  1.00000000  &  0.29147287  &  0.249102452 &  0.19970144  &  0.09439176  &  0.19110579  & -0.067785571 & 0.24630847  \\\\\n",
       "\tQ2 &  0.29147287  &  1.00000000  &  0.401584391 &  0.07969831  &  0.08981365  &  0.10056915  & -0.037063931 & 0.06945692  \\\\\n",
       "\tQ3 &  0.24910245  &  0.40158439  &  1.000000000 &  0.18581364  &  0.10292446  &  0.04786114  & -0.007483545 & 0.10433421  \\\\\n",
       "\tQ4 &  0.19970144  &  0.07969831  &  0.185813637 &  1.00000000  &  0.09791479  &  0.24855748  & -0.053875354 & 0.14633337  \\\\\n",
       "\tQ5 &  0.09439176  &  0.08981365  &  0.102924462 &  0.09791479  &  1.00000000  &  0.09464772  & -0.026561705 & 0.01223196  \\\\\n",
       "\tQ6 &  0.19110579  &  0.10056915  &  0.047861139 &  0.24855748  &  0.09464772  &  1.00000000  & -0.235691607 & 0.16519170  \\\\\n",
       "\tQ7 & -0.06778557  & -0.03706393  & -0.007483545 & -0.05387535  & -0.02656171  & -0.23569161  &  1.000000000 & 0.01344475  \\\\\n",
       "\tQ8 &  0.24630847  &  0.06945692  &  0.104334206 &  0.14633337  &  0.01223196  &  0.16519170  &  0.013444754 & 1.00000000  \\\\\n",
       "\\end{tabular}\n"
      ],
      "text/markdown": [
       "\n",
       "| <!--/--> | Q1 | Q2 | Q3 | Q4 | Q5 | Q6 | Q7 | Q8 |\n",
       "|---|---|---|---|---|---|---|---|---|\n",
       "| Q1 |  1.00000000  |  0.29147287  |  0.249102452 |  0.19970144  |  0.09439176  |  0.19110579  | -0.067785571 | 0.24630847   |\n",
       "| Q2 |  0.29147287  |  1.00000000  |  0.401584391 |  0.07969831  |  0.08981365  |  0.10056915  | -0.037063931 | 0.06945692   |\n",
       "| Q3 |  0.24910245  |  0.40158439  |  1.000000000 |  0.18581364  |  0.10292446  |  0.04786114  | -0.007483545 | 0.10433421   |\n",
       "| Q4 |  0.19970144  |  0.07969831  |  0.185813637 |  1.00000000  |  0.09791479  |  0.24855748  | -0.053875354 | 0.14633337   |\n",
       "| Q5 |  0.09439176  |  0.08981365  |  0.102924462 |  0.09791479  |  1.00000000  |  0.09464772  | -0.026561705 | 0.01223196   |\n",
       "| Q6 |  0.19110579  |  0.10056915  |  0.047861139 |  0.24855748  |  0.09464772  |  1.00000000  | -0.235691607 | 0.16519170   |\n",
       "| Q7 | -0.06778557  | -0.03706393  | -0.007483545 | -0.05387535  | -0.02656171  | -0.23569161  |  1.000000000 | 0.01344475   |\n",
       "| Q8 |  0.24630847  |  0.06945692  |  0.104334206 |  0.14633337  |  0.01223196  |  0.16519170  |  0.013444754 | 1.00000000   |\n",
       "\n"
      ],
      "text/plain": [
       "   Q1          Q2          Q3           Q4          Q5          Q6         \n",
       "Q1  1.00000000  0.29147287  0.249102452  0.19970144  0.09439176  0.19110579\n",
       "Q2  0.29147287  1.00000000  0.401584391  0.07969831  0.08981365  0.10056915\n",
       "Q3  0.24910245  0.40158439  1.000000000  0.18581364  0.10292446  0.04786114\n",
       "Q4  0.19970144  0.07969831  0.185813637  1.00000000  0.09791479  0.24855748\n",
       "Q5  0.09439176  0.08981365  0.102924462  0.09791479  1.00000000  0.09464772\n",
       "Q6  0.19110579  0.10056915  0.047861139  0.24855748  0.09464772  1.00000000\n",
       "Q7 -0.06778557 -0.03706393 -0.007483545 -0.05387535 -0.02656171 -0.23569161\n",
       "Q8  0.24630847  0.06945692  0.104334206  0.14633337  0.01223196  0.16519170\n",
       "   Q7           Q8        \n",
       "Q1 -0.067785571 0.24630847\n",
       "Q2 -0.037063931 0.06945692\n",
       "Q3 -0.007483545 0.10433421\n",
       "Q4 -0.053875354 0.14633337\n",
       "Q5 -0.026561705 0.01223196\n",
       "Q6 -0.235691607 0.16519170\n",
       "Q7  1.000000000 0.01344475\n",
       "Q8  0.013444754 1.00000000"
      ]
     },
     "metadata": {},
     "output_type": "display_data"
    }
   ],
   "source": [
    "# Descriptive statistics\n",
    "summary(x)\n",
    "cor(x)"
   ]
  },
  {
   "cell_type": "code",
   "execution_count": 33,
   "metadata": {},
   "outputs": [],
   "source": [
    "# Principal Component Analysis\n",
    "pcal <-princomp(x, score=TRUE, cor=TRUE)"
   ]
  },
  {
   "cell_type": "code",
   "execution_count": 34,
   "metadata": {},
   "outputs": [
    {
     "data": {
      "text/plain": [
       "\n",
       "Loadings:\n",
       "   Comp.1 Comp.2 Comp.3 Comp.4 Comp.5 Comp.6 Comp.7 Comp.8\n",
       "Q1  0.475         0.169  0.111  0.254  0.342  0.710  0.209\n",
       "Q2  0.420  0.417 -0.259  0.256         0.231 -0.247 -0.632\n",
       "Q3  0.427  0.436 -0.154        -0.228 -0.385 -0.212  0.592\n",
       "Q4  0.368 -0.234  0.170 -0.298 -0.730 -0.150  0.206 -0.307\n",
       "Q5  0.204        -0.390 -0.808  0.378                     \n",
       "Q6  0.351 -0.546                       0.507 -0.491  0.277\n",
       "Q7 -0.155  0.515  0.496 -0.413 -0.153  0.469 -0.200  0.100\n",
       "Q8  0.303 -0.116  0.672         0.424 -0.415 -0.257 -0.158\n",
       "\n",
       "               Comp.1 Comp.2 Comp.3 Comp.4 Comp.5 Comp.6 Comp.7 Comp.8\n",
       "SS loadings     1.000  1.000  1.000  1.000  1.000  1.000  1.000  1.000\n",
       "Proportion Var  0.125  0.125  0.125  0.125  0.125  0.125  0.125  0.125\n",
       "Cumulative Var  0.125  0.250  0.375  0.500  0.625  0.750  0.875  1.000"
      ]
     },
     "metadata": {},
     "output_type": "display_data"
    }
   ],
   "source": [
    "# Loading of Principal Components\n",
    "loadings(pcal)"
   ]
  },
  {
   "cell_type": "code",
   "execution_count": 35,
   "metadata": {},
   "outputs": [
    {
     "data": {
      "image/png": "[encoded data removed]",
      "text/plain": [
       "Plot with title \"pcal\""
      ]
     },
     "metadata": {},
     "output_type": "display_data"
    },
    {
     "data": {
      "image/png": "[encoded data removed]",
      "text/plain": [
       "Plot with title \"scree plot\""
      ]
     },
     "metadata": {},
     "output_type": "display_data"
    }
   ],
   "source": [
    "# Scree plot of eigenvalues\n",
    "plot(pcal)\n",
    "screeplot(pcal, type=\"line\", main=\"scree plot\")"
   ]
  },
  {
   "cell_type": "markdown",
   "metadata": {},
   "source": [
    "Pada grafik diatas dapat disimpulkan bahwa pertanyaan Q1 dan Q2 mendapat poin yang tinggi, jadi secara otomatis mencadi acuan untuk menentukan nilai PCA dari semua pertanyaan atau dari semua komponen"
   ]
  },
  {
   "cell_type": "code",
   "execution_count": 36,
   "metadata": {},
   "outputs": [
    {
     "data": {
      "image/png": "[encoded data removed]",
      "text/plain": [
       "plot without title"
      ]
     },
     "metadata": {},
     "output_type": "display_data"
    }
   ],
   "source": [
    "# Biplot of score variables\n",
    "biplot(pcal)"
   ]
  },
  {
   "cell_type": "markdown",
   "metadata": {},
   "source": [
    "Dari grafik acuan alternatif nilai Komponen 1 (sumbu x) dan Komponen 2 (sumbu y) di dapatkan hasil :\n",
    "1. Q2 dan Q3 saling berhubungan satu sama lain\n",
    "2. Q7 tidak berhubungan sama sekali dengan pertanyaan lain\n",
    "3. Q1, Q5, Q8, Q4, Q6 cukup berhubungan dengan Q2 dan Q3\n",
    "\n",
    " Keterangan =\n",
    "\n",
    "Q1 = Desain grafis diminati karena membantu penyampaian informasi masa sekarang\n",
    "\n",
    "Q2 = Apakah kalian tahu bahwa web design merupakan kategori dari design grafis\n",
    "\n",
    "Q3 = Apakah kalian mengetahui tentang tipografi\n",
    "\n",
    "Q4 = Pewarnaan berperan penting dalam pembuatan sebuah karya\n",
    "\n",
    "Q5 = Membuat desain grafis membutuhkan biaya yang besar\n",
    "\n",
    "Q6 = Waktu pembuatan dan tahapan pembuatan mempengaruhi harga suatu desain grafis\n",
    "\n",
    "Q7 = Banyak orang kurang mengerti isi pesan yang terkandung dalam karya desain grafis\n",
    "\n",
    "Q8 = Sebuah desain grafis dapat disimpan dan dilihat dalam format pdf"
   ]
  },
  {
   "cell_type": "markdown",
   "metadata": {},
   "source": [
    "# Menampilkan semua skor komponen"
   ]
  },
  {
   "cell_type": "code",
   "execution_count": 37,
   "metadata": {},
   "outputs": [
    {
     "data": {
      "text/html": [
       "<table>\n",
       "<thead><tr><th scope=col>Comp.1</th><th scope=col>Comp.2</th><th scope=col>Comp.3</th><th scope=col>Comp.4</th><th scope=col>Comp.5</th><th scope=col>Comp.6</th><th scope=col>Comp.7</th><th scope=col>Comp.8</th></tr></thead>\n",
       "<tbody>\n",
       "\t<tr><td> 1.1995500 </td><td>-1.8858628 </td><td> 1.1585069 </td><td> 1.79352444</td><td> 0.3071991 </td><td> 0.11862235</td><td> 0.4280041 </td><td>-1.02021864</td></tr>\n",
       "\t<tr><td>-0.7263038 </td><td> 1.2240018 </td><td> 1.2236348 </td><td> 0.81574095</td><td> 1.8122434 </td><td>-1.17474633</td><td> 1.7871447 </td><td>-1.52955773</td></tr>\n",
       "\t<tr><td> 0.9959655 </td><td> 0.9697281 </td><td> 0.8598177 </td><td> 0.07754245</td><td>-0.5459166 </td><td> 0.27207444</td><td> 0.5330161 </td><td> 0.08594366</td></tr>\n",
       "\t<tr><td> 1.1635790 </td><td> 1.3694658 </td><td> 1.1395711 </td><td> 1.03045395</td><td>-1.1602027 </td><td> 0.02533360</td><td> 0.3371388 </td><td> 0.65935507</td></tr>\n",
       "\t<tr><td> 0.5607813 </td><td> 1.2052631 </td><td> 1.8336400 </td><td> 1.43131768</td><td> 0.7361003 </td><td> 0.10342109</td><td>-0.1165799 </td><td> 0.42057247</td></tr>\n",
       "\t<tr><td>-1.6646307 </td><td>-1.0505723 </td><td> 0.1138969 </td><td>-0.72305137</td><td> 1.0555817 </td><td>-0.52003098</td><td> 0.1166877 </td><td> 0.31196748</td></tr>\n",
       "\t<tr><td>-1.4588155 </td><td> 0.9378565 </td><td> 1.3422450 </td><td>-1.93958582</td><td>-0.3716940 </td><td>-0.07311141</td><td> 0.3577749 </td><td>-0.96633120</td></tr>\n",
       "\t<tr><td>-0.9190163 </td><td>-0.7413193 </td><td>-0.8930458 </td><td> 0.70932469</td><td> 0.2202986 </td><td> 1.23977328</td><td>-0.7281909 </td><td>-0.41932194</td></tr>\n",
       "</tbody>\n",
       "</table>\n"
      ],
      "text/latex": [
       "\\begin{tabular}{llllllll}\n",
       " Comp.1 & Comp.2 & Comp.3 & Comp.4 & Comp.5 & Comp.6 & Comp.7 & Comp.8\\\\\n",
       "\\hline\n",
       "\t  1.1995500  & -1.8858628  &  1.1585069  &  1.79352444 &  0.3071991  &  0.11862235 &  0.4280041  & -1.02021864\\\\\n",
       "\t -0.7263038  &  1.2240018  &  1.2236348  &  0.81574095 &  1.8122434  & -1.17474633 &  1.7871447  & -1.52955773\\\\\n",
       "\t  0.9959655  &  0.9697281  &  0.8598177  &  0.07754245 & -0.5459166  &  0.27207444 &  0.5330161  &  0.08594366\\\\\n",
       "\t  1.1635790  &  1.3694658  &  1.1395711  &  1.03045395 & -1.1602027  &  0.02533360 &  0.3371388  &  0.65935507\\\\\n",
       "\t  0.5607813  &  1.2052631  &  1.8336400  &  1.43131768 &  0.7361003  &  0.10342109 & -0.1165799  &  0.42057247\\\\\n",
       "\t -1.6646307  & -1.0505723  &  0.1138969  & -0.72305137 &  1.0555817  & -0.52003098 &  0.1166877  &  0.31196748\\\\\n",
       "\t -1.4588155  &  0.9378565  &  1.3422450  & -1.93958582 & -0.3716940  & -0.07311141 &  0.3577749  & -0.96633120\\\\\n",
       "\t -0.9190163  & -0.7413193  & -0.8930458  &  0.70932469 &  0.2202986  &  1.23977328 & -0.7281909  & -0.41932194\\\\\n",
       "\\end{tabular}\n"
      ],
      "text/markdown": [
       "\n",
       "| Comp.1 | Comp.2 | Comp.3 | Comp.4 | Comp.5 | Comp.6 | Comp.7 | Comp.8 |\n",
       "|---|---|---|---|---|---|---|---|\n",
       "|  1.1995500  | -1.8858628  |  1.1585069  |  1.79352444 |  0.3071991  |  0.11862235 |  0.4280041  | -1.02021864 |\n",
       "| -0.7263038  |  1.2240018  |  1.2236348  |  0.81574095 |  1.8122434  | -1.17474633 |  1.7871447  | -1.52955773 |\n",
       "|  0.9959655  |  0.9697281  |  0.8598177  |  0.07754245 | -0.5459166  |  0.27207444 |  0.5330161  |  0.08594366 |\n",
       "|  1.1635790  |  1.3694658  |  1.1395711  |  1.03045395 | -1.1602027  |  0.02533360 |  0.3371388  |  0.65935507 |\n",
       "|  0.5607813  |  1.2052631  |  1.8336400  |  1.43131768 |  0.7361003  |  0.10342109 | -0.1165799  |  0.42057247 |\n",
       "| -1.6646307  | -1.0505723  |  0.1138969  | -0.72305137 |  1.0555817  | -0.52003098 |  0.1166877  |  0.31196748 |\n",
       "| -1.4588155  |  0.9378565  |  1.3422450  | -1.93958582 | -0.3716940  | -0.07311141 |  0.3577749  | -0.96633120 |\n",
       "| -0.9190163  | -0.7413193  | -0.8930458  |  0.70932469 |  0.2202986  |  1.23977328 | -0.7281909  | -0.41932194 |\n",
       "\n"
      ],
      "text/plain": [
       "     Comp.1     Comp.2     Comp.3     Comp.4      Comp.5     Comp.6     \n",
       "[1,]  1.1995500 -1.8858628  1.1585069  1.79352444  0.3071991  0.11862235\n",
       "[2,] -0.7263038  1.2240018  1.2236348  0.81574095  1.8122434 -1.17474633\n",
       "[3,]  0.9959655  0.9697281  0.8598177  0.07754245 -0.5459166  0.27207444\n",
       "[4,]  1.1635790  1.3694658  1.1395711  1.03045395 -1.1602027  0.02533360\n",
       "[5,]  0.5607813  1.2052631  1.8336400  1.43131768  0.7361003  0.10342109\n",
       "[6,] -1.6646307 -1.0505723  0.1138969 -0.72305137  1.0555817 -0.52003098\n",
       "[7,] -1.4588155  0.9378565  1.3422450 -1.93958582 -0.3716940 -0.07311141\n",
       "[8,] -0.9190163 -0.7413193 -0.8930458  0.70932469  0.2202986  1.23977328\n",
       "     Comp.7     Comp.8     \n",
       "[1,]  0.4280041 -1.02021864\n",
       "[2,]  1.7871447 -1.52955773\n",
       "[3,]  0.5330161  0.08594366\n",
       "[4,]  0.3371388  0.65935507\n",
       "[5,] -0.1165799  0.42057247\n",
       "[6,]  0.1166877  0.31196748\n",
       "[7,]  0.3577749 -0.96633120\n",
       "[8,] -0.7281909 -0.41932194"
      ]
     },
     "metadata": {},
     "output_type": "display_data"
    }
   ],
   "source": [
    "pcal$scores[1:8,]"
   ]
  },
  {
   "cell_type": "code",
   "execution_count": null,
   "metadata": {},
   "outputs": [],
   "source": []
  }
 ],
 "metadata": {
  "hide_input": false,
  "kernelspec": {
   "display_name": "Python 3",
   "language": "python",
   "name": "python3"
  },
  "language_info": {
   "codemirror_mode": {
    "name": "ipython",
    "version": 3
   },
   "file_extension": ".py",
   "mimetype": "text/x-python",
   "name": "python",
   "nbconvert_exporter": "python",
   "pygments_lexer": "ipython3",
   "version": "3.7.6"
  }
 },
 "nbformat": 4,
 "nbformat_minor": 4
}
